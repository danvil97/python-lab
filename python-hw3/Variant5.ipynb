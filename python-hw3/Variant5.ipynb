{
 "cells": [
  {
   "cell_type": "code",
   "execution_count": 3,
   "metadata": {},
   "outputs": [],
   "source": [
    "import pandas as pd\n",
    "import numpy as np\n",
    "import json"
   ]
  },
  {
   "cell_type": "code",
   "execution_count": 4,
   "metadata": {},
   "outputs": [],
   "source": [
    "INDEX_COL = 0\n",
    "MY_USER_INDEX = 5 - 1;"
   ]
  },
  {
   "cell_type": "code",
   "execution_count": 5,
   "metadata": {},
   "outputs": [],
   "source": [
    "data = pd.read_csv('CSV/data.csv',index_col=INDEX_COL)\n",
    "context_day = pd.read_csv('CSV/context_day.csv')\n",
    "context_place = pd.read_csv('CSV/context_place.csv')\n",
    "movie_names = pd.read_csv('CSV/movie_names.csv')"
   ]
  },
  {
   "source": [
    "data"
   ],
   "cell_type": "code",
   "metadata": {},
   "execution_count": 6,
   "outputs": [
    {
     "output_type": "execute_result",
     "data": {
      "text/plain": [
       "          Movie 1   Movie 2   Movie 3   Movie 4   Movie 5   Movie 6   Movie 7  \\\n",
       "User 1         -1         4         1         5        -1        -1        -1   \n",
       "User 2          4         5         2         3         3         4        -1   \n",
       "User 3          4         2         5         4         1         5        -1   \n",
       "User 4          5        -1         2        -1        -1         2         4   \n",
       "User 5          4         3         3         3         5         3         3   \n",
       "User 6          2        -1         3         3         3         3         4   \n",
       "User 7          4         1         4         4         1         4         5   \n",
       "User 8         -1         5         5         3         3         3         3   \n",
       "User 9          1         2         3         1         5         3         3   \n",
       "User 10         5        -1         1        -1         3         3         4   \n",
       "User 11        -1         5        -1         1         5         2         4   \n",
       "User 12         5         4         4        -1         3        -1         5   \n",
       "User 13         1         1         4         5         4         3         5   \n",
       "User 14         3         5         4        -1         1         2         4   \n",
       "User 15         3         5         3         4         4        -1         4   \n",
       "User 16         3         3         5         3         2         2         5   \n",
       "User 17         1         1        -1        -1         4         4        -1   \n",
       "User 18         4         3         3         2         1         5         3   \n",
       "User 19         4         3         5         5         4         4        -1   \n",
       "User 20         2        -1         2         5        -1        -1         1   \n",
       "User 21        -1         2         1         2         3         5         4   \n",
       "User 22         2         4         4        -1         4        -1         4   \n",
       "User 23         5         1        -1         5         5        -1        -1   \n",
       "User 24         5         4         2        -1         2         1         3   \n",
       "User 25         3         1        -1         4         2        -1         4   \n",
       "User 26         1         5        -1         3        -1         2         4   \n",
       "User 27         4         4         3        -1         4         5         3   \n",
       "User 28        -1        -1         4         2         3         2         1   \n",
       "User 29         3         2         4         2         2         2         4   \n",
       "User 30         2         3         5         4         1         3         3   \n",
       "User 31         3         5         4         5         1         3         3   \n",
       "User 32         5         4         5         4         1         5         5   \n",
       "User 33         5         3         4         4         2         1         3   \n",
       "User 34        -1         5        -1        -1         1        -1         5   \n",
       "User 35         4        -1         5         4         2         2         3   \n",
       "User 36         3         2        -1         5         5         1         5   \n",
       "User 37        -1         4        -1         3         1         4         5   \n",
       "User 38         3        -1         1         4         2         3         4   \n",
       "User 39         1        -1         5        -1         1         2         3   \n",
       "User 40        -1         1         1         1         1        -1         4   \n",
       "\n",
       "          Movie 8   Movie 9   Movie 10  ...   Movie 21   Movie 22   Movie 23  \\\n",
       "User 1          1         3         -1  ...          2          4         -1   \n",
       "User 2          5         3          2  ...         -1          2         -1   \n",
       "User 3          3         5          2  ...          4         -1          5   \n",
       "User 4          3         2          3  ...         -1          2          2   \n",
       "User 5          4         5          2  ...          4          5          2   \n",
       "User 6          2        -1          1  ...          5         -1          1   \n",
       "User 7          2         2         -1  ...          2          5          1   \n",
       "User 8          3         1          2  ...         -1          3          1   \n",
       "User 9          1         2          5  ...          3          2          3   \n",
       "User 10         1         1          2  ...          4          1          4   \n",
       "User 11         2         4         -1  ...          4         -1          3   \n",
       "User 12         5         5          3  ...          1          4          1   \n",
       "User 13         5         5          4  ...          2          3          2   \n",
       "User 14        -1        -1          4  ...          4          1          5   \n",
       "User 15         4         2          1  ...          2          2          5   \n",
       "User 16        -1         4          4  ...          1          3          4   \n",
       "User 17        -1         1          1  ...          4          2          4   \n",
       "User 18         4         5          2  ...         -1          4          5   \n",
       "User 19        -1         4          4  ...          2          3          1   \n",
       "User 20        -1         2         -1  ...         -1          2          4   \n",
       "User 21         1         2          3  ...         -1          5          1   \n",
       "User 22         5         5          4  ...          4          5          1   \n",
       "User 23         5        -1          3  ...         -1         -1          3   \n",
       "User 24         2         1          2  ...          4          2          2   \n",
       "User 25         1         5          3  ...          2         -1          5   \n",
       "User 26        -1         4          2  ...          5          3          1   \n",
       "User 27         4         3         -1  ...         -1          3          4   \n",
       "User 28         4        -1          1  ...          1          3          2   \n",
       "User 29         1         3          3  ...          3         -1          3   \n",
       "User 30         2         3          1  ...          4          5          1   \n",
       "User 31         3         4          1  ...          5          4          4   \n",
       "User 32         4         4         -1  ...          5          2         -1   \n",
       "User 33         1         3          3  ...          2          1          5   \n",
       "User 34         1         1          5  ...          3          3          4   \n",
       "User 35         1         1          5  ...          5          1          2   \n",
       "User 36         2         1          5  ...         -1          2          4   \n",
       "User 37         4         3          3  ...          3          3         -1   \n",
       "User 38        -1         5          3  ...          5          4          3   \n",
       "User 39        -1         2          5  ...          4          2          5   \n",
       "User 40         1        -1          3  ...          3          5          4   \n",
       "\n",
       "          Movie 24   Movie 25   Movie 26   Movie 27   Movie 28   Movie 29  \\\n",
       "User 1          -1          3          4         -1          2          4   \n",
       "User 2           3          1          5         -1          5          2   \n",
       "User 3           4          5          1          2          1         -1   \n",
       "User 4           2          2          5          3          2          5   \n",
       "User 5          -1          3          5          1         -1          5   \n",
       "User 6           3         -1          4          4          5          1   \n",
       "User 7           3          4         -1          4          3          1   \n",
       "User 8           3          2          1          4         -1          1   \n",
       "User 9          -1          1          4          3          1          5   \n",
       "User 10          1          4          5          2          3         -1   \n",
       "User 11          4          1          2          4          2          5   \n",
       "User 12          5          3          5          4          3          5   \n",
       "User 13         -1          4          3         -1          5          5   \n",
       "User 14          4          1         -1          3          1          5   \n",
       "User 15          1          3          4         -1         -1          5   \n",
       "User 16         -1          4          4          4          2          4   \n",
       "User 17          2          2         -1          5          4          5   \n",
       "User 18          2          1          1          2          1         -1   \n",
       "User 19          2         -1          2          5          1          2   \n",
       "User 20          1         -1          2          2          3          3   \n",
       "User 21          2          5          5          4          4          2   \n",
       "User 22         -1         -1          5          2          2          5   \n",
       "User 23          1          5         -1          1          5          3   \n",
       "User 24          1          3          2          5          2          5   \n",
       "User 25          5          2         -1          1          3          1   \n",
       "User 26          5          2         -1          2          2          4   \n",
       "User 27          3         -1          3          2          3          2   \n",
       "User 28          1          4          3          2          4          2   \n",
       "User 29          5          5          5          4         -1          5   \n",
       "User 30          1          4          5          3          1          3   \n",
       "User 31          3          5          2          2          4          4   \n",
       "User 32          2          3          2          1          3          1   \n",
       "User 33          5          2         -1          2          1          4   \n",
       "User 34         -1          3          1          5          2          2   \n",
       "User 35          1          5          5          1         -1          5   \n",
       "User 36          3          4          5          2          1          3   \n",
       "User 37          5         -1          5          2          3          5   \n",
       "User 38         -1          1          4          3         -1         -1   \n",
       "User 39          2          3          1          2          1          2   \n",
       "User 40          2          3          4          5          5          3   \n",
       "\n",
       "          Movie 30  \n",
       "User 1           1  \n",
       "User 2           2  \n",
       "User 3           3  \n",
       "User 4           5  \n",
       "User 5          -1  \n",
       "User 6           2  \n",
       "User 7           4  \n",
       "User 8           3  \n",
       "User 9           3  \n",
       "User 10          1  \n",
       "User 11          1  \n",
       "User 12          5  \n",
       "User 13          4  \n",
       "User 14          3  \n",
       "User 15          4  \n",
       "User 16          4  \n",
       "User 17          3  \n",
       "User 18          4  \n",
       "User 19          1  \n",
       "User 20          4  \n",
       "User 21         -1  \n",
       "User 22         -1  \n",
       "User 23          5  \n",
       "User 24          4  \n",
       "User 25          2  \n",
       "User 26         -1  \n",
       "User 27          5  \n",
       "User 28          1  \n",
       "User 29         -1  \n",
       "User 30          5  \n",
       "User 31         -1  \n",
       "User 32         -1  \n",
       "User 33          2  \n",
       "User 34          5  \n",
       "User 35          5  \n",
       "User 36          4  \n",
       "User 37         -1  \n",
       "User 38          4  \n",
       "User 39          1  \n",
       "User 40          2  \n",
       "\n",
       "[40 rows x 30 columns]"
      ],
      "text/html": "<div>\n<style scoped>\n    .dataframe tbody tr th:only-of-type {\n        vertical-align: middle;\n    }\n\n    .dataframe tbody tr th {\n        vertical-align: top;\n    }\n\n    .dataframe thead th {\n        text-align: right;\n    }\n</style>\n<table border=\"1\" class=\"dataframe\">\n  <thead>\n    <tr style=\"text-align: right;\">\n      <th></th>\n      <th>Movie 1</th>\n      <th>Movie 2</th>\n      <th>Movie 3</th>\n      <th>Movie 4</th>\n      <th>Movie 5</th>\n      <th>Movie 6</th>\n      <th>Movie 7</th>\n      <th>Movie 8</th>\n      <th>Movie 9</th>\n      <th>Movie 10</th>\n      <th>...</th>\n      <th>Movie 21</th>\n      <th>Movie 22</th>\n      <th>Movie 23</th>\n      <th>Movie 24</th>\n      <th>Movie 25</th>\n      <th>Movie 26</th>\n      <th>Movie 27</th>\n      <th>Movie 28</th>\n      <th>Movie 29</th>\n      <th>Movie 30</th>\n    </tr>\n  </thead>\n  <tbody>\n    <tr>\n      <th>User 1</th>\n      <td>-1</td>\n      <td>4</td>\n      <td>1</td>\n      <td>5</td>\n      <td>-1</td>\n      <td>-1</td>\n      <td>-1</td>\n      <td>1</td>\n      <td>3</td>\n      <td>-1</td>\n      <td>...</td>\n      <td>2</td>\n      <td>4</td>\n      <td>-1</td>\n      <td>-1</td>\n      <td>3</td>\n      <td>4</td>\n      <td>-1</td>\n      <td>2</td>\n      <td>4</td>\n      <td>1</td>\n    </tr>\n    <tr>\n      <th>User 2</th>\n      <td>4</td>\n      <td>5</td>\n      <td>2</td>\n      <td>3</td>\n      <td>3</td>\n      <td>4</td>\n      <td>-1</td>\n      <td>5</td>\n      <td>3</td>\n      <td>2</td>\n      <td>...</td>\n      <td>-1</td>\n      <td>2</td>\n      <td>-1</td>\n      <td>3</td>\n      <td>1</td>\n      <td>5</td>\n      <td>-1</td>\n      <td>5</td>\n      <td>2</td>\n      <td>2</td>\n    </tr>\n    <tr>\n      <th>User 3</th>\n      <td>4</td>\n      <td>2</td>\n      <td>5</td>\n      <td>4</td>\n      <td>1</td>\n      <td>5</td>\n      <td>-1</td>\n      <td>3</td>\n      <td>5</td>\n      <td>2</td>\n      <td>...</td>\n      <td>4</td>\n      <td>-1</td>\n      <td>5</td>\n      <td>4</td>\n      <td>5</td>\n      <td>1</td>\n      <td>2</td>\n      <td>1</td>\n      <td>-1</td>\n      <td>3</td>\n    </tr>\n    <tr>\n      <th>User 4</th>\n      <td>5</td>\n      <td>-1</td>\n      <td>2</td>\n      <td>-1</td>\n      <td>-1</td>\n      <td>2</td>\n      <td>4</td>\n      <td>3</td>\n      <td>2</td>\n      <td>3</td>\n      <td>...</td>\n      <td>-1</td>\n      <td>2</td>\n      <td>2</td>\n      <td>2</td>\n      <td>2</td>\n      <td>5</td>\n      <td>3</td>\n      <td>2</td>\n      <td>5</td>\n      <td>5</td>\n    </tr>\n    <tr>\n      <th>User 5</th>\n      <td>4</td>\n      <td>3</td>\n      <td>3</td>\n      <td>3</td>\n      <td>5</td>\n      <td>3</td>\n      <td>3</td>\n      <td>4</td>\n      <td>5</td>\n      <td>2</td>\n      <td>...</td>\n      <td>4</td>\n      <td>5</td>\n      <td>2</td>\n      <td>-1</td>\n      <td>3</td>\n      <td>5</td>\n      <td>1</td>\n      <td>-1</td>\n      <td>5</td>\n      <td>-1</td>\n    </tr>\n    <tr>\n      <th>User 6</th>\n      <td>2</td>\n      <td>-1</td>\n      <td>3</td>\n      <td>3</td>\n      <td>3</td>\n      <td>3</td>\n      <td>4</td>\n      <td>2</td>\n      <td>-1</td>\n      <td>1</td>\n      <td>...</td>\n      <td>5</td>\n      <td>-1</td>\n      <td>1</td>\n      <td>3</td>\n      <td>-1</td>\n      <td>4</td>\n      <td>4</td>\n      <td>5</td>\n      <td>1</td>\n      <td>2</td>\n    </tr>\n    <tr>\n      <th>User 7</th>\n      <td>4</td>\n      <td>1</td>\n      <td>4</td>\n      <td>4</td>\n      <td>1</td>\n      <td>4</td>\n      <td>5</td>\n      <td>2</td>\n      <td>2</td>\n      <td>-1</td>\n      <td>...</td>\n      <td>2</td>\n      <td>5</td>\n      <td>1</td>\n      <td>3</td>\n      <td>4</td>\n      <td>-1</td>\n      <td>4</td>\n      <td>3</td>\n      <td>1</td>\n      <td>4</td>\n    </tr>\n    <tr>\n      <th>User 8</th>\n      <td>-1</td>\n      <td>5</td>\n      <td>5</td>\n      <td>3</td>\n      <td>3</td>\n      <td>3</td>\n      <td>3</td>\n      <td>3</td>\n      <td>1</td>\n      <td>2</td>\n      <td>...</td>\n      <td>-1</td>\n      <td>3</td>\n      <td>1</td>\n      <td>3</td>\n      <td>2</td>\n      <td>1</td>\n      <td>4</td>\n      <td>-1</td>\n      <td>1</td>\n      <td>3</td>\n    </tr>\n    <tr>\n      <th>User 9</th>\n      <td>1</td>\n      <td>2</td>\n      <td>3</td>\n      <td>1</td>\n      <td>5</td>\n      <td>3</td>\n      <td>3</td>\n      <td>1</td>\n      <td>2</td>\n      <td>5</td>\n      <td>...</td>\n      <td>3</td>\n      <td>2</td>\n      <td>3</td>\n      <td>-1</td>\n      <td>1</td>\n      <td>4</td>\n      <td>3</td>\n      <td>1</td>\n      <td>5</td>\n      <td>3</td>\n    </tr>\n    <tr>\n      <th>User 10</th>\n      <td>5</td>\n      <td>-1</td>\n      <td>1</td>\n      <td>-1</td>\n      <td>3</td>\n      <td>3</td>\n      <td>4</td>\n      <td>1</td>\n      <td>1</td>\n      <td>2</td>\n      <td>...</td>\n      <td>4</td>\n      <td>1</td>\n      <td>4</td>\n      <td>1</td>\n      <td>4</td>\n      <td>5</td>\n      <td>2</td>\n      <td>3</td>\n      <td>-1</td>\n      <td>1</td>\n    </tr>\n    <tr>\n      <th>User 11</th>\n      <td>-1</td>\n      <td>5</td>\n      <td>-1</td>\n      <td>1</td>\n      <td>5</td>\n      <td>2</td>\n      <td>4</td>\n      <td>2</td>\n      <td>4</td>\n      <td>-1</td>\n      <td>...</td>\n      <td>4</td>\n      <td>-1</td>\n      <td>3</td>\n      <td>4</td>\n      <td>1</td>\n      <td>2</td>\n      <td>4</td>\n      <td>2</td>\n      <td>5</td>\n      <td>1</td>\n    </tr>\n    <tr>\n      <th>User 12</th>\n      <td>5</td>\n      <td>4</td>\n      <td>4</td>\n      <td>-1</td>\n      <td>3</td>\n      <td>-1</td>\n      <td>5</td>\n      <td>5</td>\n      <td>5</td>\n      <td>3</td>\n      <td>...</td>\n      <td>1</td>\n      <td>4</td>\n      <td>1</td>\n      <td>5</td>\n      <td>3</td>\n      <td>5</td>\n      <td>4</td>\n      <td>3</td>\n      <td>5</td>\n      <td>5</td>\n    </tr>\n    <tr>\n      <th>User 13</th>\n      <td>1</td>\n      <td>1</td>\n      <td>4</td>\n      <td>5</td>\n      <td>4</td>\n      <td>3</td>\n      <td>5</td>\n      <td>5</td>\n      <td>5</td>\n      <td>4</td>\n      <td>...</td>\n      <td>2</td>\n      <td>3</td>\n      <td>2</td>\n      <td>-1</td>\n      <td>4</td>\n      <td>3</td>\n      <td>-1</td>\n      <td>5</td>\n      <td>5</td>\n      <td>4</td>\n    </tr>\n    <tr>\n      <th>User 14</th>\n      <td>3</td>\n      <td>5</td>\n      <td>4</td>\n      <td>-1</td>\n      <td>1</td>\n      <td>2</td>\n      <td>4</td>\n      <td>-1</td>\n      <td>-1</td>\n      <td>4</td>\n      <td>...</td>\n      <td>4</td>\n      <td>1</td>\n      <td>5</td>\n      <td>4</td>\n      <td>1</td>\n      <td>-1</td>\n      <td>3</td>\n      <td>1</td>\n      <td>5</td>\n      <td>3</td>\n    </tr>\n    <tr>\n      <th>User 15</th>\n      <td>3</td>\n      <td>5</td>\n      <td>3</td>\n      <td>4</td>\n      <td>4</td>\n      <td>-1</td>\n      <td>4</td>\n      <td>4</td>\n      <td>2</td>\n      <td>1</td>\n      <td>...</td>\n      <td>2</td>\n      <td>2</td>\n      <td>5</td>\n      <td>1</td>\n      <td>3</td>\n      <td>4</td>\n      <td>-1</td>\n      <td>-1</td>\n      <td>5</td>\n      <td>4</td>\n    </tr>\n    <tr>\n      <th>User 16</th>\n      <td>3</td>\n      <td>3</td>\n      <td>5</td>\n      <td>3</td>\n      <td>2</td>\n      <td>2</td>\n      <td>5</td>\n      <td>-1</td>\n      <td>4</td>\n      <td>4</td>\n      <td>...</td>\n      <td>1</td>\n      <td>3</td>\n      <td>4</td>\n      <td>-1</td>\n      <td>4</td>\n      <td>4</td>\n      <td>4</td>\n      <td>2</td>\n      <td>4</td>\n      <td>4</td>\n    </tr>\n    <tr>\n      <th>User 17</th>\n      <td>1</td>\n      <td>1</td>\n      <td>-1</td>\n      <td>-1</td>\n      <td>4</td>\n      <td>4</td>\n      <td>-1</td>\n      <td>-1</td>\n      <td>1</td>\n      <td>1</td>\n      <td>...</td>\n      <td>4</td>\n      <td>2</td>\n      <td>4</td>\n      <td>2</td>\n      <td>2</td>\n      <td>-1</td>\n      <td>5</td>\n      <td>4</td>\n      <td>5</td>\n      <td>3</td>\n    </tr>\n    <tr>\n      <th>User 18</th>\n      <td>4</td>\n      <td>3</td>\n      <td>3</td>\n      <td>2</td>\n      <td>1</td>\n      <td>5</td>\n      <td>3</td>\n      <td>4</td>\n      <td>5</td>\n      <td>2</td>\n      <td>...</td>\n      <td>-1</td>\n      <td>4</td>\n      <td>5</td>\n      <td>2</td>\n      <td>1</td>\n      <td>1</td>\n      <td>2</td>\n      <td>1</td>\n      <td>-1</td>\n      <td>4</td>\n    </tr>\n    <tr>\n      <th>User 19</th>\n      <td>4</td>\n      <td>3</td>\n      <td>5</td>\n      <td>5</td>\n      <td>4</td>\n      <td>4</td>\n      <td>-1</td>\n      <td>-1</td>\n      <td>4</td>\n      <td>4</td>\n      <td>...</td>\n      <td>2</td>\n      <td>3</td>\n      <td>1</td>\n      <td>2</td>\n      <td>-1</td>\n      <td>2</td>\n      <td>5</td>\n      <td>1</td>\n      <td>2</td>\n      <td>1</td>\n    </tr>\n    <tr>\n      <th>User 20</th>\n      <td>2</td>\n      <td>-1</td>\n      <td>2</td>\n      <td>5</td>\n      <td>-1</td>\n      <td>-1</td>\n      <td>1</td>\n      <td>-1</td>\n      <td>2</td>\n      <td>-1</td>\n      <td>...</td>\n      <td>-1</td>\n      <td>2</td>\n      <td>4</td>\n      <td>1</td>\n      <td>-1</td>\n      <td>2</td>\n      <td>2</td>\n      <td>3</td>\n      <td>3</td>\n      <td>4</td>\n    </tr>\n    <tr>\n      <th>User 21</th>\n      <td>-1</td>\n      <td>2</td>\n      <td>1</td>\n      <td>2</td>\n      <td>3</td>\n      <td>5</td>\n      <td>4</td>\n      <td>1</td>\n      <td>2</td>\n      <td>3</td>\n      <td>...</td>\n      <td>-1</td>\n      <td>5</td>\n      <td>1</td>\n      <td>2</td>\n      <td>5</td>\n      <td>5</td>\n      <td>4</td>\n      <td>4</td>\n      <td>2</td>\n      <td>-1</td>\n    </tr>\n    <tr>\n      <th>User 22</th>\n      <td>2</td>\n      <td>4</td>\n      <td>4</td>\n      <td>-1</td>\n      <td>4</td>\n      <td>-1</td>\n      <td>4</td>\n      <td>5</td>\n      <td>5</td>\n      <td>4</td>\n      <td>...</td>\n      <td>4</td>\n      <td>5</td>\n      <td>1</td>\n      <td>-1</td>\n      <td>-1</td>\n      <td>5</td>\n      <td>2</td>\n      <td>2</td>\n      <td>5</td>\n      <td>-1</td>\n    </tr>\n    <tr>\n      <th>User 23</th>\n      <td>5</td>\n      <td>1</td>\n      <td>-1</td>\n      <td>5</td>\n      <td>5</td>\n      <td>-1</td>\n      <td>-1</td>\n      <td>5</td>\n      <td>-1</td>\n      <td>3</td>\n      <td>...</td>\n      <td>-1</td>\n      <td>-1</td>\n      <td>3</td>\n      <td>1</td>\n      <td>5</td>\n      <td>-1</td>\n      <td>1</td>\n      <td>5</td>\n      <td>3</td>\n      <td>5</td>\n    </tr>\n    <tr>\n      <th>User 24</th>\n      <td>5</td>\n      <td>4</td>\n      <td>2</td>\n      <td>-1</td>\n      <td>2</td>\n      <td>1</td>\n      <td>3</td>\n      <td>2</td>\n      <td>1</td>\n      <td>2</td>\n      <td>...</td>\n      <td>4</td>\n      <td>2</td>\n      <td>2</td>\n      <td>1</td>\n      <td>3</td>\n      <td>2</td>\n      <td>5</td>\n      <td>2</td>\n      <td>5</td>\n      <td>4</td>\n    </tr>\n    <tr>\n      <th>User 25</th>\n      <td>3</td>\n      <td>1</td>\n      <td>-1</td>\n      <td>4</td>\n      <td>2</td>\n      <td>-1</td>\n      <td>4</td>\n      <td>1</td>\n      <td>5</td>\n      <td>3</td>\n      <td>...</td>\n      <td>2</td>\n      <td>-1</td>\n      <td>5</td>\n      <td>5</td>\n      <td>2</td>\n      <td>-1</td>\n      <td>1</td>\n      <td>3</td>\n      <td>1</td>\n      <td>2</td>\n    </tr>\n    <tr>\n      <th>User 26</th>\n      <td>1</td>\n      <td>5</td>\n      <td>-1</td>\n      <td>3</td>\n      <td>-1</td>\n      <td>2</td>\n      <td>4</td>\n      <td>-1</td>\n      <td>4</td>\n      <td>2</td>\n      <td>...</td>\n      <td>5</td>\n      <td>3</td>\n      <td>1</td>\n      <td>5</td>\n      <td>2</td>\n      <td>-1</td>\n      <td>2</td>\n      <td>2</td>\n      <td>4</td>\n      <td>-1</td>\n    </tr>\n    <tr>\n      <th>User 27</th>\n      <td>4</td>\n      <td>4</td>\n      <td>3</td>\n      <td>-1</td>\n      <td>4</td>\n      <td>5</td>\n      <td>3</td>\n      <td>4</td>\n      <td>3</td>\n      <td>-1</td>\n      <td>...</td>\n      <td>-1</td>\n      <td>3</td>\n      <td>4</td>\n      <td>3</td>\n      <td>-1</td>\n      <td>3</td>\n      <td>2</td>\n      <td>3</td>\n      <td>2</td>\n      <td>5</td>\n    </tr>\n    <tr>\n      <th>User 28</th>\n      <td>-1</td>\n      <td>-1</td>\n      <td>4</td>\n      <td>2</td>\n      <td>3</td>\n      <td>2</td>\n      <td>1</td>\n      <td>4</td>\n      <td>-1</td>\n      <td>1</td>\n      <td>...</td>\n      <td>1</td>\n      <td>3</td>\n      <td>2</td>\n      <td>1</td>\n      <td>4</td>\n      <td>3</td>\n      <td>2</td>\n      <td>4</td>\n      <td>2</td>\n      <td>1</td>\n    </tr>\n    <tr>\n      <th>User 29</th>\n      <td>3</td>\n      <td>2</td>\n      <td>4</td>\n      <td>2</td>\n      <td>2</td>\n      <td>2</td>\n      <td>4</td>\n      <td>1</td>\n      <td>3</td>\n      <td>3</td>\n      <td>...</td>\n      <td>3</td>\n      <td>-1</td>\n      <td>3</td>\n      <td>5</td>\n      <td>5</td>\n      <td>5</td>\n      <td>4</td>\n      <td>-1</td>\n      <td>5</td>\n      <td>-1</td>\n    </tr>\n    <tr>\n      <th>User 30</th>\n      <td>2</td>\n      <td>3</td>\n      <td>5</td>\n      <td>4</td>\n      <td>1</td>\n      <td>3</td>\n      <td>3</td>\n      <td>2</td>\n      <td>3</td>\n      <td>1</td>\n      <td>...</td>\n      <td>4</td>\n      <td>5</td>\n      <td>1</td>\n      <td>1</td>\n      <td>4</td>\n      <td>5</td>\n      <td>3</td>\n      <td>1</td>\n      <td>3</td>\n      <td>5</td>\n    </tr>\n    <tr>\n      <th>User 31</th>\n      <td>3</td>\n      <td>5</td>\n      <td>4</td>\n      <td>5</td>\n      <td>1</td>\n      <td>3</td>\n      <td>3</td>\n      <td>3</td>\n      <td>4</td>\n      <td>1</td>\n      <td>...</td>\n      <td>5</td>\n      <td>4</td>\n      <td>4</td>\n      <td>3</td>\n      <td>5</td>\n      <td>2</td>\n      <td>2</td>\n      <td>4</td>\n      <td>4</td>\n      <td>-1</td>\n    </tr>\n    <tr>\n      <th>User 32</th>\n      <td>5</td>\n      <td>4</td>\n      <td>5</td>\n      <td>4</td>\n      <td>1</td>\n      <td>5</td>\n      <td>5</td>\n      <td>4</td>\n      <td>4</td>\n      <td>-1</td>\n      <td>...</td>\n      <td>5</td>\n      <td>2</td>\n      <td>-1</td>\n      <td>2</td>\n      <td>3</td>\n      <td>2</td>\n      <td>1</td>\n      <td>3</td>\n      <td>1</td>\n      <td>-1</td>\n    </tr>\n    <tr>\n      <th>User 33</th>\n      <td>5</td>\n      <td>3</td>\n      <td>4</td>\n      <td>4</td>\n      <td>2</td>\n      <td>1</td>\n      <td>3</td>\n      <td>1</td>\n      <td>3</td>\n      <td>3</td>\n      <td>...</td>\n      <td>2</td>\n      <td>1</td>\n      <td>5</td>\n      <td>5</td>\n      <td>2</td>\n      <td>-1</td>\n      <td>2</td>\n      <td>1</td>\n      <td>4</td>\n      <td>2</td>\n    </tr>\n    <tr>\n      <th>User 34</th>\n      <td>-1</td>\n      <td>5</td>\n      <td>-1</td>\n      <td>-1</td>\n      <td>1</td>\n      <td>-1</td>\n      <td>5</td>\n      <td>1</td>\n      <td>1</td>\n      <td>5</td>\n      <td>...</td>\n      <td>3</td>\n      <td>3</td>\n      <td>4</td>\n      <td>-1</td>\n      <td>3</td>\n      <td>1</td>\n      <td>5</td>\n      <td>2</td>\n      <td>2</td>\n      <td>5</td>\n    </tr>\n    <tr>\n      <th>User 35</th>\n      <td>4</td>\n      <td>-1</td>\n      <td>5</td>\n      <td>4</td>\n      <td>2</td>\n      <td>2</td>\n      <td>3</td>\n      <td>1</td>\n      <td>1</td>\n      <td>5</td>\n      <td>...</td>\n      <td>5</td>\n      <td>1</td>\n      <td>2</td>\n      <td>1</td>\n      <td>5</td>\n      <td>5</td>\n      <td>1</td>\n      <td>-1</td>\n      <td>5</td>\n      <td>5</td>\n    </tr>\n    <tr>\n      <th>User 36</th>\n      <td>3</td>\n      <td>2</td>\n      <td>-1</td>\n      <td>5</td>\n      <td>5</td>\n      <td>1</td>\n      <td>5</td>\n      <td>2</td>\n      <td>1</td>\n      <td>5</td>\n      <td>...</td>\n      <td>-1</td>\n      <td>2</td>\n      <td>4</td>\n      <td>3</td>\n      <td>4</td>\n      <td>5</td>\n      <td>2</td>\n      <td>1</td>\n      <td>3</td>\n      <td>4</td>\n    </tr>\n    <tr>\n      <th>User 37</th>\n      <td>-1</td>\n      <td>4</td>\n      <td>-1</td>\n      <td>3</td>\n      <td>1</td>\n      <td>4</td>\n      <td>5</td>\n      <td>4</td>\n      <td>3</td>\n      <td>3</td>\n      <td>...</td>\n      <td>3</td>\n      <td>3</td>\n      <td>-1</td>\n      <td>5</td>\n      <td>-1</td>\n      <td>5</td>\n      <td>2</td>\n      <td>3</td>\n      <td>5</td>\n      <td>-1</td>\n    </tr>\n    <tr>\n      <th>User 38</th>\n      <td>3</td>\n      <td>-1</td>\n      <td>1</td>\n      <td>4</td>\n      <td>2</td>\n      <td>3</td>\n      <td>4</td>\n      <td>-1</td>\n      <td>5</td>\n      <td>3</td>\n      <td>...</td>\n      <td>5</td>\n      <td>4</td>\n      <td>3</td>\n      <td>-1</td>\n      <td>1</td>\n      <td>4</td>\n      <td>3</td>\n      <td>-1</td>\n      <td>-1</td>\n      <td>4</td>\n    </tr>\n    <tr>\n      <th>User 39</th>\n      <td>1</td>\n      <td>-1</td>\n      <td>5</td>\n      <td>-1</td>\n      <td>1</td>\n      <td>2</td>\n      <td>3</td>\n      <td>-1</td>\n      <td>2</td>\n      <td>5</td>\n      <td>...</td>\n      <td>4</td>\n      <td>2</td>\n      <td>5</td>\n      <td>2</td>\n      <td>3</td>\n      <td>1</td>\n      <td>2</td>\n      <td>1</td>\n      <td>2</td>\n      <td>1</td>\n    </tr>\n    <tr>\n      <th>User 40</th>\n      <td>-1</td>\n      <td>1</td>\n      <td>1</td>\n      <td>1</td>\n      <td>1</td>\n      <td>-1</td>\n      <td>4</td>\n      <td>1</td>\n      <td>-1</td>\n      <td>3</td>\n      <td>...</td>\n      <td>3</td>\n      <td>5</td>\n      <td>4</td>\n      <td>2</td>\n      <td>3</td>\n      <td>4</td>\n      <td>5</td>\n      <td>5</td>\n      <td>3</td>\n      <td>2</td>\n    </tr>\n  </tbody>\n</table>\n<p>40 rows × 30 columns</p>\n</div>"
     },
     "metadata": {},
     "execution_count": 6
    }
   ]
  },
  {
   "cell_type": "code",
   "execution_count": 23,
   "metadata": {},
   "outputs": [
    {
     "output_type": "stream",
     "name": "stdout",
     "text": [
      "-1\n5\n5\n-1\n5\n3\n5\n3\n2\n2\n5\n5\n3\n2\n5\n5\n4\n1\n5\n5\n-1\n5\n3\n1\n2\n-1\n2\n4\n5\n5\n"
     ]
    },
    {
     "output_type": "error",
     "ename": "IndexError",
     "evalue": "single positional indexer is out-of-bounds",
     "traceback": [
      "\u001b[1;31m---------------------------------------------------------------------------\u001b[0m",
      "\u001b[1;31mIndexError\u001b[0m                                Traceback (most recent call last)",
      "\u001b[1;32m<ipython-input-23-fe3f4544f519>\u001b[0m in \u001b[0;36m<module>\u001b[1;34m\u001b[0m\n\u001b[0;32m      1\u001b[0m \u001b[1;32mfor\u001b[0m \u001b[0mel\u001b[0m \u001b[1;32min\u001b[0m \u001b[0mrange\u001b[0m\u001b[1;33m(\u001b[0m\u001b[0mlen\u001b[0m\u001b[1;33m(\u001b[0m\u001b[0mdata\u001b[0m\u001b[1;33m)\u001b[0m\u001b[1;33m)\u001b[0m\u001b[1;33m:\u001b[0m\u001b[1;33m\u001b[0m\u001b[1;33m\u001b[0m\u001b[0m\n\u001b[1;32m----> 2\u001b[1;33m     \u001b[0mprint\u001b[0m\u001b[1;33m(\u001b[0m\u001b[0mdata\u001b[0m\u001b[1;33m.\u001b[0m\u001b[0miloc\u001b[0m\u001b[1;33m[\u001b[0m\u001b[0mel\u001b[0m\u001b[1;33m,\u001b[0m\u001b[0mel\u001b[0m\u001b[1;33m]\u001b[0m\u001b[1;33m)\u001b[0m\u001b[1;33m\u001b[0m\u001b[1;33m\u001b[0m\u001b[0m\n\u001b[0m",
      "\u001b[1;32m~\\anaconda3\\lib\\site-packages\\pandas\\core\\indexing.py\u001b[0m in \u001b[0;36m__getitem__\u001b[1;34m(self, key)\u001b[0m\n\u001b[0;32m   1760\u001b[0m                 \u001b[1;32mexcept\u001b[0m \u001b[1;33m(\u001b[0m\u001b[0mKeyError\u001b[0m\u001b[1;33m,\u001b[0m \u001b[0mIndexError\u001b[0m\u001b[1;33m,\u001b[0m \u001b[0mAttributeError\u001b[0m\u001b[1;33m)\u001b[0m\u001b[1;33m:\u001b[0m\u001b[1;33m\u001b[0m\u001b[1;33m\u001b[0m\u001b[0m\n\u001b[0;32m   1761\u001b[0m                     \u001b[1;32mpass\u001b[0m\u001b[1;33m\u001b[0m\u001b[1;33m\u001b[0m\u001b[0m\n\u001b[1;32m-> 1762\u001b[1;33m             \u001b[1;32mreturn\u001b[0m \u001b[0mself\u001b[0m\u001b[1;33m.\u001b[0m\u001b[0m_getitem_tuple\u001b[0m\u001b[1;33m(\u001b[0m\u001b[0mkey\u001b[0m\u001b[1;33m)\u001b[0m\u001b[1;33m\u001b[0m\u001b[1;33m\u001b[0m\u001b[0m\n\u001b[0m\u001b[0;32m   1763\u001b[0m         \u001b[1;32melse\u001b[0m\u001b[1;33m:\u001b[0m\u001b[1;33m\u001b[0m\u001b[1;33m\u001b[0m\u001b[0m\n\u001b[0;32m   1764\u001b[0m             \u001b[1;31m# we by definition only have the 0th axis\u001b[0m\u001b[1;33m\u001b[0m\u001b[1;33m\u001b[0m\u001b[1;33m\u001b[0m\u001b[0m\n",
      "\u001b[1;32m~\\anaconda3\\lib\\site-packages\\pandas\\core\\indexing.py\u001b[0m in \u001b[0;36m_getitem_tuple\u001b[1;34m(self, tup)\u001b[0m\n\u001b[0;32m   2065\u001b[0m     \u001b[1;32mdef\u001b[0m \u001b[0m_getitem_tuple\u001b[0m\u001b[1;33m(\u001b[0m\u001b[0mself\u001b[0m\u001b[1;33m,\u001b[0m \u001b[0mtup\u001b[0m\u001b[1;33m:\u001b[0m \u001b[0mTuple\u001b[0m\u001b[1;33m)\u001b[0m\u001b[1;33m:\u001b[0m\u001b[1;33m\u001b[0m\u001b[1;33m\u001b[0m\u001b[0m\n\u001b[0;32m   2066\u001b[0m \u001b[1;33m\u001b[0m\u001b[0m\n\u001b[1;32m-> 2067\u001b[1;33m         \u001b[0mself\u001b[0m\u001b[1;33m.\u001b[0m\u001b[0m_has_valid_tuple\u001b[0m\u001b[1;33m(\u001b[0m\u001b[0mtup\u001b[0m\u001b[1;33m)\u001b[0m\u001b[1;33m\u001b[0m\u001b[1;33m\u001b[0m\u001b[0m\n\u001b[0m\u001b[0;32m   2068\u001b[0m         \u001b[1;32mtry\u001b[0m\u001b[1;33m:\u001b[0m\u001b[1;33m\u001b[0m\u001b[1;33m\u001b[0m\u001b[0m\n\u001b[0;32m   2069\u001b[0m             \u001b[1;32mreturn\u001b[0m \u001b[0mself\u001b[0m\u001b[1;33m.\u001b[0m\u001b[0m_getitem_lowerdim\u001b[0m\u001b[1;33m(\u001b[0m\u001b[0mtup\u001b[0m\u001b[1;33m)\u001b[0m\u001b[1;33m\u001b[0m\u001b[1;33m\u001b[0m\u001b[0m\n",
      "\u001b[1;32m~\\anaconda3\\lib\\site-packages\\pandas\\core\\indexing.py\u001b[0m in \u001b[0;36m_has_valid_tuple\u001b[1;34m(self, key)\u001b[0m\n\u001b[0;32m    701\u001b[0m                 \u001b[1;32mraise\u001b[0m \u001b[0mIndexingError\u001b[0m\u001b[1;33m(\u001b[0m\u001b[1;34m\"Too many indexers\"\u001b[0m\u001b[1;33m)\u001b[0m\u001b[1;33m\u001b[0m\u001b[1;33m\u001b[0m\u001b[0m\n\u001b[0;32m    702\u001b[0m             \u001b[1;32mtry\u001b[0m\u001b[1;33m:\u001b[0m\u001b[1;33m\u001b[0m\u001b[1;33m\u001b[0m\u001b[0m\n\u001b[1;32m--> 703\u001b[1;33m                 \u001b[0mself\u001b[0m\u001b[1;33m.\u001b[0m\u001b[0m_validate_key\u001b[0m\u001b[1;33m(\u001b[0m\u001b[0mk\u001b[0m\u001b[1;33m,\u001b[0m \u001b[0mi\u001b[0m\u001b[1;33m)\u001b[0m\u001b[1;33m\u001b[0m\u001b[1;33m\u001b[0m\u001b[0m\n\u001b[0m\u001b[0;32m    704\u001b[0m             \u001b[1;32mexcept\u001b[0m \u001b[0mValueError\u001b[0m\u001b[1;33m:\u001b[0m\u001b[1;33m\u001b[0m\u001b[1;33m\u001b[0m\u001b[0m\n\u001b[0;32m    705\u001b[0m                 raise ValueError(\n",
      "\u001b[1;32m~\\anaconda3\\lib\\site-packages\\pandas\\core\\indexing.py\u001b[0m in \u001b[0;36m_validate_key\u001b[1;34m(self, key, axis)\u001b[0m\n\u001b[0;32m   1992\u001b[0m             \u001b[1;32mreturn\u001b[0m\u001b[1;33m\u001b[0m\u001b[1;33m\u001b[0m\u001b[0m\n\u001b[0;32m   1993\u001b[0m         \u001b[1;32melif\u001b[0m \u001b[0mis_integer\u001b[0m\u001b[1;33m(\u001b[0m\u001b[0mkey\u001b[0m\u001b[1;33m)\u001b[0m\u001b[1;33m:\u001b[0m\u001b[1;33m\u001b[0m\u001b[1;33m\u001b[0m\u001b[0m\n\u001b[1;32m-> 1994\u001b[1;33m             \u001b[0mself\u001b[0m\u001b[1;33m.\u001b[0m\u001b[0m_validate_integer\u001b[0m\u001b[1;33m(\u001b[0m\u001b[0mkey\u001b[0m\u001b[1;33m,\u001b[0m \u001b[0maxis\u001b[0m\u001b[1;33m)\u001b[0m\u001b[1;33m\u001b[0m\u001b[1;33m\u001b[0m\u001b[0m\n\u001b[0m\u001b[0;32m   1995\u001b[0m         \u001b[1;32melif\u001b[0m \u001b[0misinstance\u001b[0m\u001b[1;33m(\u001b[0m\u001b[0mkey\u001b[0m\u001b[1;33m,\u001b[0m \u001b[0mtuple\u001b[0m\u001b[1;33m)\u001b[0m\u001b[1;33m:\u001b[0m\u001b[1;33m\u001b[0m\u001b[1;33m\u001b[0m\u001b[0m\n\u001b[0;32m   1996\u001b[0m             \u001b[1;31m# a tuple should already have been caught by this point\u001b[0m\u001b[1;33m\u001b[0m\u001b[1;33m\u001b[0m\u001b[1;33m\u001b[0m\u001b[0m\n",
      "\u001b[1;32m~\\anaconda3\\lib\\site-packages\\pandas\\core\\indexing.py\u001b[0m in \u001b[0;36m_validate_integer\u001b[1;34m(self, key, axis)\u001b[0m\n\u001b[0;32m   2061\u001b[0m         \u001b[0mlen_axis\u001b[0m \u001b[1;33m=\u001b[0m \u001b[0mlen\u001b[0m\u001b[1;33m(\u001b[0m\u001b[0mself\u001b[0m\u001b[1;33m.\u001b[0m\u001b[0mobj\u001b[0m\u001b[1;33m.\u001b[0m\u001b[0m_get_axis\u001b[0m\u001b[1;33m(\u001b[0m\u001b[0maxis\u001b[0m\u001b[1;33m)\u001b[0m\u001b[1;33m)\u001b[0m\u001b[1;33m\u001b[0m\u001b[1;33m\u001b[0m\u001b[0m\n\u001b[0;32m   2062\u001b[0m         \u001b[1;32mif\u001b[0m \u001b[0mkey\u001b[0m \u001b[1;33m>=\u001b[0m \u001b[0mlen_axis\u001b[0m \u001b[1;32mor\u001b[0m \u001b[0mkey\u001b[0m \u001b[1;33m<\u001b[0m \u001b[1;33m-\u001b[0m\u001b[0mlen_axis\u001b[0m\u001b[1;33m:\u001b[0m\u001b[1;33m\u001b[0m\u001b[1;33m\u001b[0m\u001b[0m\n\u001b[1;32m-> 2063\u001b[1;33m             \u001b[1;32mraise\u001b[0m \u001b[0mIndexError\u001b[0m\u001b[1;33m(\u001b[0m\u001b[1;34m\"single positional indexer is out-of-bounds\"\u001b[0m\u001b[1;33m)\u001b[0m\u001b[1;33m\u001b[0m\u001b[1;33m\u001b[0m\u001b[0m\n\u001b[0m\u001b[0;32m   2064\u001b[0m \u001b[1;33m\u001b[0m\u001b[0m\n\u001b[0;32m   2065\u001b[0m     \u001b[1;32mdef\u001b[0m \u001b[0m_getitem_tuple\u001b[0m\u001b[1;33m(\u001b[0m\u001b[0mself\u001b[0m\u001b[1;33m,\u001b[0m \u001b[0mtup\u001b[0m\u001b[1;33m:\u001b[0m \u001b[0mTuple\u001b[0m\u001b[1;33m)\u001b[0m\u001b[1;33m:\u001b[0m\u001b[1;33m\u001b[0m\u001b[1;33m\u001b[0m\u001b[0m\n",
      "\u001b[1;31mIndexError\u001b[0m: single positional indexer is out-of-bounds"
     ]
    }
   ],
   "source": []
  },
  {
   "cell_type": "code",
   "execution_count": 12,
   "metadata": {},
   "outputs": [
    {
     "output_type": "execute_result",
     "data": {
      "text/plain": [
       "         Movie 1   Movie 2   Movie 3   Movie 4   Movie 5   Movie 6   Movie 7  \\\n",
       "User 5         4         3         3         3         5         3         3   \n",
       "\n",
       "         Movie 8   Movie 9   Movie 10  ...   Movie 21   Movie 22   Movie 23  \\\n",
       "User 5         4         5          2  ...          4          5          2   \n",
       "\n",
       "         Movie 24   Movie 25   Movie 26   Movie 27   Movie 28   Movie 29  \\\n",
       "User 5         -1          3          5          1         -1          5   \n",
       "\n",
       "         Movie 30  \n",
       "User 5         -1  \n",
       "\n",
       "[1 rows x 30 columns]"
      ],
      "text/html": "<div>\n<style scoped>\n    .dataframe tbody tr th:only-of-type {\n        vertical-align: middle;\n    }\n\n    .dataframe tbody tr th {\n        vertical-align: top;\n    }\n\n    .dataframe thead th {\n        text-align: right;\n    }\n</style>\n<table border=\"1\" class=\"dataframe\">\n  <thead>\n    <tr style=\"text-align: right;\">\n      <th></th>\n      <th>Movie 1</th>\n      <th>Movie 2</th>\n      <th>Movie 3</th>\n      <th>Movie 4</th>\n      <th>Movie 5</th>\n      <th>Movie 6</th>\n      <th>Movie 7</th>\n      <th>Movie 8</th>\n      <th>Movie 9</th>\n      <th>Movie 10</th>\n      <th>...</th>\n      <th>Movie 21</th>\n      <th>Movie 22</th>\n      <th>Movie 23</th>\n      <th>Movie 24</th>\n      <th>Movie 25</th>\n      <th>Movie 26</th>\n      <th>Movie 27</th>\n      <th>Movie 28</th>\n      <th>Movie 29</th>\n      <th>Movie 30</th>\n    </tr>\n  </thead>\n  <tbody>\n    <tr>\n      <th>User 5</th>\n      <td>4</td>\n      <td>3</td>\n      <td>3</td>\n      <td>3</td>\n      <td>5</td>\n      <td>3</td>\n      <td>3</td>\n      <td>4</td>\n      <td>5</td>\n      <td>2</td>\n      <td>...</td>\n      <td>4</td>\n      <td>5</td>\n      <td>2</td>\n      <td>-1</td>\n      <td>3</td>\n      <td>5</td>\n      <td>1</td>\n      <td>-1</td>\n      <td>5</td>\n      <td>-1</td>\n    </tr>\n  </tbody>\n</table>\n<p>1 rows × 30 columns</p>\n</div>"
     },
     "metadata": {},
     "execution_count": 12
    }
   ],
   "source": [
    "data_myUser = data.iloc[[MY_USER_INDEX]]\n",
    "data_myUser                 "
   ]
  },
  {
   "cell_type": "code",
   "execution_count": 8,
   "metadata": {},
   "outputs": [
    {
     "output_type": "stream",
     "name": "stdout",
     "text": [
      "User 5 average score: 2.7333333333333334\n"
     ]
    }
   ],
   "source": [
    "my_user_avg_score = data_myUser.mean()\n",
    "print(\"User 5 average score:\", my_user_avg_score)"
   ]
  },
  {
   "source": [
    "# index_array = data.index\n",
    "# data_without_zeroes =data[lambda x: x>0].fillna(0)\n",
    "unrated_movies = data_myUser[lambda x: x<0]\n",
    "print(unrated_movies)"
   ],
   "cell_type": "code",
   "metadata": {
    "tags": []
   },
   "execution_count": 9,
   "outputs": [
    {
     "output_type": "stream",
     "name": "stdout",
     "text": [
      " Movie 13   -1\n Movie 24   -1\n Movie 28   -1\n Movie 30   -1\nName: User 5, dtype: int64\n"
     ]
    }
   ]
  },
  {
   "cell_type": "code",
   "execution_count": null,
   "metadata": {},
   "outputs": [],
   "source": []
  }
 ],
 "metadata": {
  "kernelspec": {
   "display_name": "Python 3",
   "language": "python",
   "name": "python3"
  },
  "language_info": {
   "codemirror_mode": {
    "name": "ipython",
    "version": 3
   },
   "file_extension": ".py",
   "mimetype": "text/x-python",
   "name": "python",
   "nbconvert_exporter": "python",
   "pygments_lexer": "ipython3",
   "version": "3.8.3-final"
  }
 },
 "nbformat": 4,
 "nbformat_minor": 4
}