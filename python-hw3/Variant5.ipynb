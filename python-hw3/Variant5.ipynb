{
 "cells": [
  {
   "cell_type": "code",
   "execution_count": 10,
   "metadata": {},
   "outputs": [],
   "source": [
    "import pandas as pd\n",
    "import numpy as np\n",
    "import json"
   ]
  },
  {
   "cell_type": "code",
   "execution_count": 11,
   "metadata": {},
   "outputs": [],
   "source": [
    "INDEX_COL = 0\n",
    "MY_USER_INDEX = 5 - 1\n",
    "MY_USER_STRING = 'User '+ str(MY_USER_INDEX + 1)\n",
    "ROUND_PRECISION = 3\n",
    "NO_RATING = -1"
   ]
  },
  {
   "cell_type": "code",
   "execution_count": 12,
   "metadata": {},
   "outputs": [
    {
     "data": {
      "text/plain": "{'users': Index(['User 1', 'User 2', 'User 3', 'User 4', 'User 5', 'User 6', 'User 7',\n        'User 8', 'User 9', 'User 10', 'User 11', 'User 12', 'User 13',\n        'User 14', 'User 15', 'User 16', 'User 17', 'User 18', 'User 19',\n        'User 20', 'User 21', 'User 22', 'User 23', 'User 24', 'User 25',\n        'User 26', 'User 27', 'User 28', 'User 29', 'User 30', 'User 31',\n        'User 32', 'User 33', 'User 34', 'User 35', 'User 36', 'User 37',\n        'User 38', 'User 39', 'User 40'],\n       dtype='object'),\n 'movies': Index(['Movie 1', 'Movie 2', 'Movie 3', 'Movie 4', 'Movie 5', 'Movie 6',\n        'Movie 7', 'Movie 8', 'Movie 9', 'Movie 10', 'Movie 11', 'Movie 12',\n        'Movie 13', 'Movie 14', 'Movie 15', 'Movie 16', 'Movie 17', 'Movie 18',\n        'Movie 19', 'Movie 20', 'Movie 21', 'Movie 22', 'Movie 23', 'Movie 24',\n        'Movie 25', 'Movie 26', 'Movie 27', 'Movie 28', 'Movie 29', 'Movie 30'],\n       dtype='object')}"
     },
     "execution_count": 12,
     "metadata": {},
     "output_type": "execute_result"
    }
   ],
   "source": [
    "data = pd.read_csv('CSV/data.csv', index_col=INDEX_COL, delimiter=', ')\n",
    "context_day = pd.read_csv('CSV/context_day.csv')\n",
    "context_place = pd.read_csv('CSV/context_place.csv')\n",
    "movie_names = pd.read_csv('CSV/movie_names.csv')\n",
    "\n",
    "indexes = dict(users = data.index, movies = data.keys())\n",
    "indexes"
   ]
  },
  {
   "cell_type": "code",
   "execution_count": 13,
   "metadata": {},
   "outputs": [
    {
     "data": {
      "text/html": "<div>\n<style scoped>\n    .dataframe tbody tr th:only-of-type {\n        vertical-align: middle;\n    }\n\n    .dataframe tbody tr th {\n        vertical-align: top;\n    }\n\n    .dataframe thead th {\n        text-align: right;\n    }\n</style>\n<table border=\"1\" class=\"dataframe\">\n  <thead>\n    <tr style=\"text-align: right;\">\n      <th></th>\n      <th>Movie 1</th>\n      <th>Movie 2</th>\n      <th>Movie 3</th>\n      <th>Movie 4</th>\n      <th>Movie 5</th>\n      <th>Movie 6</th>\n      <th>Movie 7</th>\n      <th>Movie 8</th>\n      <th>Movie 9</th>\n      <th>Movie 10</th>\n      <th>...</th>\n      <th>Movie 21</th>\n      <th>Movie 22</th>\n      <th>Movie 23</th>\n      <th>Movie 24</th>\n      <th>Movie 25</th>\n      <th>Movie 26</th>\n      <th>Movie 27</th>\n      <th>Movie 28</th>\n      <th>Movie 29</th>\n      <th>Movie 30</th>\n    </tr>\n  </thead>\n  <tbody>\n    <tr>\n      <th>User 1</th>\n      <td>-1</td>\n      <td>4</td>\n      <td>1</td>\n      <td>5</td>\n      <td>-1</td>\n      <td>-1</td>\n      <td>-1</td>\n      <td>1</td>\n      <td>3</td>\n      <td>-1</td>\n      <td>...</td>\n      <td>2</td>\n      <td>4</td>\n      <td>-1</td>\n      <td>-1</td>\n      <td>3</td>\n      <td>4</td>\n      <td>-1</td>\n      <td>2</td>\n      <td>4</td>\n      <td>1</td>\n    </tr>\n    <tr>\n      <th>User 2</th>\n      <td>4</td>\n      <td>5</td>\n      <td>2</td>\n      <td>3</td>\n      <td>3</td>\n      <td>4</td>\n      <td>-1</td>\n      <td>5</td>\n      <td>3</td>\n      <td>2</td>\n      <td>...</td>\n      <td>-1</td>\n      <td>2</td>\n      <td>-1</td>\n      <td>3</td>\n      <td>1</td>\n      <td>5</td>\n      <td>-1</td>\n      <td>5</td>\n      <td>2</td>\n      <td>2</td>\n    </tr>\n    <tr>\n      <th>User 3</th>\n      <td>4</td>\n      <td>2</td>\n      <td>5</td>\n      <td>4</td>\n      <td>1</td>\n      <td>5</td>\n      <td>-1</td>\n      <td>3</td>\n      <td>5</td>\n      <td>2</td>\n      <td>...</td>\n      <td>4</td>\n      <td>-1</td>\n      <td>5</td>\n      <td>4</td>\n      <td>5</td>\n      <td>1</td>\n      <td>2</td>\n      <td>1</td>\n      <td>-1</td>\n      <td>3</td>\n    </tr>\n    <tr>\n      <th>User 4</th>\n      <td>5</td>\n      <td>-1</td>\n      <td>2</td>\n      <td>-1</td>\n      <td>-1</td>\n      <td>2</td>\n      <td>4</td>\n      <td>3</td>\n      <td>2</td>\n      <td>3</td>\n      <td>...</td>\n      <td>-1</td>\n      <td>2</td>\n      <td>2</td>\n      <td>2</td>\n      <td>2</td>\n      <td>5</td>\n      <td>3</td>\n      <td>2</td>\n      <td>5</td>\n      <td>5</td>\n    </tr>\n    <tr>\n      <th>User 5</th>\n      <td>4</td>\n      <td>3</td>\n      <td>3</td>\n      <td>3</td>\n      <td>5</td>\n      <td>3</td>\n      <td>3</td>\n      <td>4</td>\n      <td>5</td>\n      <td>2</td>\n      <td>...</td>\n      <td>4</td>\n      <td>5</td>\n      <td>2</td>\n      <td>-1</td>\n      <td>3</td>\n      <td>5</td>\n      <td>1</td>\n      <td>-1</td>\n      <td>5</td>\n      <td>-1</td>\n    </tr>\n    <tr>\n      <th>User 6</th>\n      <td>2</td>\n      <td>-1</td>\n      <td>3</td>\n      <td>3</td>\n      <td>3</td>\n      <td>3</td>\n      <td>4</td>\n      <td>2</td>\n      <td>-1</td>\n      <td>1</td>\n      <td>...</td>\n      <td>5</td>\n      <td>-1</td>\n      <td>1</td>\n      <td>3</td>\n      <td>-1</td>\n      <td>4</td>\n      <td>4</td>\n      <td>5</td>\n      <td>1</td>\n      <td>2</td>\n    </tr>\n    <tr>\n      <th>User 7</th>\n      <td>4</td>\n      <td>1</td>\n      <td>4</td>\n      <td>4</td>\n      <td>1</td>\n      <td>4</td>\n      <td>5</td>\n      <td>2</td>\n      <td>2</td>\n      <td>-1</td>\n      <td>...</td>\n      <td>2</td>\n      <td>5</td>\n      <td>1</td>\n      <td>3</td>\n      <td>4</td>\n      <td>-1</td>\n      <td>4</td>\n      <td>3</td>\n      <td>1</td>\n      <td>4</td>\n    </tr>\n    <tr>\n      <th>User 8</th>\n      <td>-1</td>\n      <td>5</td>\n      <td>5</td>\n      <td>3</td>\n      <td>3</td>\n      <td>3</td>\n      <td>3</td>\n      <td>3</td>\n      <td>1</td>\n      <td>2</td>\n      <td>...</td>\n      <td>-1</td>\n      <td>3</td>\n      <td>1</td>\n      <td>3</td>\n      <td>2</td>\n      <td>1</td>\n      <td>4</td>\n      <td>-1</td>\n      <td>1</td>\n      <td>3</td>\n    </tr>\n    <tr>\n      <th>User 9</th>\n      <td>1</td>\n      <td>2</td>\n      <td>3</td>\n      <td>1</td>\n      <td>5</td>\n      <td>3</td>\n      <td>3</td>\n      <td>1</td>\n      <td>2</td>\n      <td>5</td>\n      <td>...</td>\n      <td>3</td>\n      <td>2</td>\n      <td>3</td>\n      <td>-1</td>\n      <td>1</td>\n      <td>4</td>\n      <td>3</td>\n      <td>1</td>\n      <td>5</td>\n      <td>3</td>\n    </tr>\n    <tr>\n      <th>User 10</th>\n      <td>5</td>\n      <td>-1</td>\n      <td>1</td>\n      <td>-1</td>\n      <td>3</td>\n      <td>3</td>\n      <td>4</td>\n      <td>1</td>\n      <td>1</td>\n      <td>2</td>\n      <td>...</td>\n      <td>4</td>\n      <td>1</td>\n      <td>4</td>\n      <td>1</td>\n      <td>4</td>\n      <td>5</td>\n      <td>2</td>\n      <td>3</td>\n      <td>-1</td>\n      <td>1</td>\n    </tr>\n    <tr>\n      <th>User 11</th>\n      <td>-1</td>\n      <td>5</td>\n      <td>-1</td>\n      <td>1</td>\n      <td>5</td>\n      <td>2</td>\n      <td>4</td>\n      <td>2</td>\n      <td>4</td>\n      <td>-1</td>\n      <td>...</td>\n      <td>4</td>\n      <td>-1</td>\n      <td>3</td>\n      <td>4</td>\n      <td>1</td>\n      <td>2</td>\n      <td>4</td>\n      <td>2</td>\n      <td>5</td>\n      <td>1</td>\n    </tr>\n    <tr>\n      <th>User 12</th>\n      <td>5</td>\n      <td>4</td>\n      <td>4</td>\n      <td>-1</td>\n      <td>3</td>\n      <td>-1</td>\n      <td>5</td>\n      <td>5</td>\n      <td>5</td>\n      <td>3</td>\n      <td>...</td>\n      <td>1</td>\n      <td>4</td>\n      <td>1</td>\n      <td>5</td>\n      <td>3</td>\n      <td>5</td>\n      <td>4</td>\n      <td>3</td>\n      <td>5</td>\n      <td>5</td>\n    </tr>\n    <tr>\n      <th>User 13</th>\n      <td>1</td>\n      <td>1</td>\n      <td>4</td>\n      <td>5</td>\n      <td>4</td>\n      <td>3</td>\n      <td>5</td>\n      <td>5</td>\n      <td>5</td>\n      <td>4</td>\n      <td>...</td>\n      <td>2</td>\n      <td>3</td>\n      <td>2</td>\n      <td>-1</td>\n      <td>4</td>\n      <td>3</td>\n      <td>-1</td>\n      <td>5</td>\n      <td>5</td>\n      <td>4</td>\n    </tr>\n    <tr>\n      <th>User 14</th>\n      <td>3</td>\n      <td>5</td>\n      <td>4</td>\n      <td>-1</td>\n      <td>1</td>\n      <td>2</td>\n      <td>4</td>\n      <td>-1</td>\n      <td>-1</td>\n      <td>4</td>\n      <td>...</td>\n      <td>4</td>\n      <td>1</td>\n      <td>5</td>\n      <td>4</td>\n      <td>1</td>\n      <td>-1</td>\n      <td>3</td>\n      <td>1</td>\n      <td>5</td>\n      <td>3</td>\n    </tr>\n    <tr>\n      <th>User 15</th>\n      <td>3</td>\n      <td>5</td>\n      <td>3</td>\n      <td>4</td>\n      <td>4</td>\n      <td>-1</td>\n      <td>4</td>\n      <td>4</td>\n      <td>2</td>\n      <td>1</td>\n      <td>...</td>\n      <td>2</td>\n      <td>2</td>\n      <td>5</td>\n      <td>1</td>\n      <td>3</td>\n      <td>4</td>\n      <td>-1</td>\n      <td>-1</td>\n      <td>5</td>\n      <td>4</td>\n    </tr>\n    <tr>\n      <th>User 16</th>\n      <td>3</td>\n      <td>3</td>\n      <td>5</td>\n      <td>3</td>\n      <td>2</td>\n      <td>2</td>\n      <td>5</td>\n      <td>-1</td>\n      <td>4</td>\n      <td>4</td>\n      <td>...</td>\n      <td>1</td>\n      <td>3</td>\n      <td>4</td>\n      <td>-1</td>\n      <td>4</td>\n      <td>4</td>\n      <td>4</td>\n      <td>2</td>\n      <td>4</td>\n      <td>4</td>\n    </tr>\n    <tr>\n      <th>User 17</th>\n      <td>1</td>\n      <td>1</td>\n      <td>-1</td>\n      <td>-1</td>\n      <td>4</td>\n      <td>4</td>\n      <td>-1</td>\n      <td>-1</td>\n      <td>1</td>\n      <td>1</td>\n      <td>...</td>\n      <td>4</td>\n      <td>2</td>\n      <td>4</td>\n      <td>2</td>\n      <td>2</td>\n      <td>-1</td>\n      <td>5</td>\n      <td>4</td>\n      <td>5</td>\n      <td>3</td>\n    </tr>\n    <tr>\n      <th>User 18</th>\n      <td>4</td>\n      <td>3</td>\n      <td>3</td>\n      <td>2</td>\n      <td>1</td>\n      <td>5</td>\n      <td>3</td>\n      <td>4</td>\n      <td>5</td>\n      <td>2</td>\n      <td>...</td>\n      <td>-1</td>\n      <td>4</td>\n      <td>5</td>\n      <td>2</td>\n      <td>1</td>\n      <td>1</td>\n      <td>2</td>\n      <td>1</td>\n      <td>-1</td>\n      <td>4</td>\n    </tr>\n    <tr>\n      <th>User 19</th>\n      <td>4</td>\n      <td>3</td>\n      <td>5</td>\n      <td>5</td>\n      <td>4</td>\n      <td>4</td>\n      <td>-1</td>\n      <td>-1</td>\n      <td>4</td>\n      <td>4</td>\n      <td>...</td>\n      <td>2</td>\n      <td>3</td>\n      <td>1</td>\n      <td>2</td>\n      <td>-1</td>\n      <td>2</td>\n      <td>5</td>\n      <td>1</td>\n      <td>2</td>\n      <td>1</td>\n    </tr>\n    <tr>\n      <th>User 20</th>\n      <td>2</td>\n      <td>-1</td>\n      <td>2</td>\n      <td>5</td>\n      <td>-1</td>\n      <td>-1</td>\n      <td>1</td>\n      <td>-1</td>\n      <td>2</td>\n      <td>-1</td>\n      <td>...</td>\n      <td>-1</td>\n      <td>2</td>\n      <td>4</td>\n      <td>1</td>\n      <td>-1</td>\n      <td>2</td>\n      <td>2</td>\n      <td>3</td>\n      <td>3</td>\n      <td>4</td>\n    </tr>\n    <tr>\n      <th>User 21</th>\n      <td>-1</td>\n      <td>2</td>\n      <td>1</td>\n      <td>2</td>\n      <td>3</td>\n      <td>5</td>\n      <td>4</td>\n      <td>1</td>\n      <td>2</td>\n      <td>3</td>\n      <td>...</td>\n      <td>-1</td>\n      <td>5</td>\n      <td>1</td>\n      <td>2</td>\n      <td>5</td>\n      <td>5</td>\n      <td>4</td>\n      <td>4</td>\n      <td>2</td>\n      <td>-1</td>\n    </tr>\n    <tr>\n      <th>User 22</th>\n      <td>2</td>\n      <td>4</td>\n      <td>4</td>\n      <td>-1</td>\n      <td>4</td>\n      <td>-1</td>\n      <td>4</td>\n      <td>5</td>\n      <td>5</td>\n      <td>4</td>\n      <td>...</td>\n      <td>4</td>\n      <td>5</td>\n      <td>1</td>\n      <td>-1</td>\n      <td>-1</td>\n      <td>5</td>\n      <td>2</td>\n      <td>2</td>\n      <td>5</td>\n      <td>-1</td>\n    </tr>\n    <tr>\n      <th>User 23</th>\n      <td>5</td>\n      <td>1</td>\n      <td>-1</td>\n      <td>5</td>\n      <td>5</td>\n      <td>-1</td>\n      <td>-1</td>\n      <td>5</td>\n      <td>-1</td>\n      <td>3</td>\n      <td>...</td>\n      <td>-1</td>\n      <td>-1</td>\n      <td>3</td>\n      <td>1</td>\n      <td>5</td>\n      <td>-1</td>\n      <td>1</td>\n      <td>5</td>\n      <td>3</td>\n      <td>5</td>\n    </tr>\n    <tr>\n      <th>User 24</th>\n      <td>5</td>\n      <td>4</td>\n      <td>2</td>\n      <td>-1</td>\n      <td>2</td>\n      <td>1</td>\n      <td>3</td>\n      <td>2</td>\n      <td>1</td>\n      <td>2</td>\n      <td>...</td>\n      <td>4</td>\n      <td>2</td>\n      <td>2</td>\n      <td>1</td>\n      <td>3</td>\n      <td>2</td>\n      <td>5</td>\n      <td>2</td>\n      <td>5</td>\n      <td>4</td>\n    </tr>\n    <tr>\n      <th>User 25</th>\n      <td>3</td>\n      <td>1</td>\n      <td>-1</td>\n      <td>4</td>\n      <td>2</td>\n      <td>-1</td>\n      <td>4</td>\n      <td>1</td>\n      <td>5</td>\n      <td>3</td>\n      <td>...</td>\n      <td>2</td>\n      <td>-1</td>\n      <td>5</td>\n      <td>5</td>\n      <td>2</td>\n      <td>-1</td>\n      <td>1</td>\n      <td>3</td>\n      <td>1</td>\n      <td>2</td>\n    </tr>\n    <tr>\n      <th>User 26</th>\n      <td>1</td>\n      <td>5</td>\n      <td>-1</td>\n      <td>3</td>\n      <td>-1</td>\n      <td>2</td>\n      <td>4</td>\n      <td>-1</td>\n      <td>4</td>\n      <td>2</td>\n      <td>...</td>\n      <td>5</td>\n      <td>3</td>\n      <td>1</td>\n      <td>5</td>\n      <td>2</td>\n      <td>-1</td>\n      <td>2</td>\n      <td>2</td>\n      <td>4</td>\n      <td>-1</td>\n    </tr>\n    <tr>\n      <th>User 27</th>\n      <td>4</td>\n      <td>4</td>\n      <td>3</td>\n      <td>-1</td>\n      <td>4</td>\n      <td>5</td>\n      <td>3</td>\n      <td>4</td>\n      <td>3</td>\n      <td>-1</td>\n      <td>...</td>\n      <td>-1</td>\n      <td>3</td>\n      <td>4</td>\n      <td>3</td>\n      <td>-1</td>\n      <td>3</td>\n      <td>2</td>\n      <td>3</td>\n      <td>2</td>\n      <td>5</td>\n    </tr>\n    <tr>\n      <th>User 28</th>\n      <td>-1</td>\n      <td>-1</td>\n      <td>4</td>\n      <td>2</td>\n      <td>3</td>\n      <td>2</td>\n      <td>1</td>\n      <td>4</td>\n      <td>-1</td>\n      <td>1</td>\n      <td>...</td>\n      <td>1</td>\n      <td>3</td>\n      <td>2</td>\n      <td>1</td>\n      <td>4</td>\n      <td>3</td>\n      <td>2</td>\n      <td>4</td>\n      <td>2</td>\n      <td>1</td>\n    </tr>\n    <tr>\n      <th>User 29</th>\n      <td>3</td>\n      <td>2</td>\n      <td>4</td>\n      <td>2</td>\n      <td>2</td>\n      <td>2</td>\n      <td>4</td>\n      <td>1</td>\n      <td>3</td>\n      <td>3</td>\n      <td>...</td>\n      <td>3</td>\n      <td>-1</td>\n      <td>3</td>\n      <td>5</td>\n      <td>5</td>\n      <td>5</td>\n      <td>4</td>\n      <td>-1</td>\n      <td>5</td>\n      <td>-1</td>\n    </tr>\n    <tr>\n      <th>User 30</th>\n      <td>2</td>\n      <td>3</td>\n      <td>5</td>\n      <td>4</td>\n      <td>1</td>\n      <td>3</td>\n      <td>3</td>\n      <td>2</td>\n      <td>3</td>\n      <td>1</td>\n      <td>...</td>\n      <td>4</td>\n      <td>5</td>\n      <td>1</td>\n      <td>1</td>\n      <td>4</td>\n      <td>5</td>\n      <td>3</td>\n      <td>1</td>\n      <td>3</td>\n      <td>5</td>\n    </tr>\n    <tr>\n      <th>User 31</th>\n      <td>3</td>\n      <td>5</td>\n      <td>4</td>\n      <td>5</td>\n      <td>1</td>\n      <td>3</td>\n      <td>3</td>\n      <td>3</td>\n      <td>4</td>\n      <td>1</td>\n      <td>...</td>\n      <td>5</td>\n      <td>4</td>\n      <td>4</td>\n      <td>3</td>\n      <td>5</td>\n      <td>2</td>\n      <td>2</td>\n      <td>4</td>\n      <td>4</td>\n      <td>-1</td>\n    </tr>\n    <tr>\n      <th>User 32</th>\n      <td>5</td>\n      <td>4</td>\n      <td>5</td>\n      <td>4</td>\n      <td>1</td>\n      <td>5</td>\n      <td>5</td>\n      <td>4</td>\n      <td>4</td>\n      <td>-1</td>\n      <td>...</td>\n      <td>5</td>\n      <td>2</td>\n      <td>-1</td>\n      <td>2</td>\n      <td>3</td>\n      <td>2</td>\n      <td>1</td>\n      <td>3</td>\n      <td>1</td>\n      <td>-1</td>\n    </tr>\n    <tr>\n      <th>User 33</th>\n      <td>5</td>\n      <td>3</td>\n      <td>4</td>\n      <td>4</td>\n      <td>2</td>\n      <td>1</td>\n      <td>3</td>\n      <td>1</td>\n      <td>3</td>\n      <td>3</td>\n      <td>...</td>\n      <td>2</td>\n      <td>1</td>\n      <td>5</td>\n      <td>5</td>\n      <td>2</td>\n      <td>-1</td>\n      <td>2</td>\n      <td>1</td>\n      <td>4</td>\n      <td>2</td>\n    </tr>\n    <tr>\n      <th>User 34</th>\n      <td>-1</td>\n      <td>5</td>\n      <td>-1</td>\n      <td>-1</td>\n      <td>1</td>\n      <td>-1</td>\n      <td>5</td>\n      <td>1</td>\n      <td>1</td>\n      <td>5</td>\n      <td>...</td>\n      <td>3</td>\n      <td>3</td>\n      <td>4</td>\n      <td>-1</td>\n      <td>3</td>\n      <td>1</td>\n      <td>5</td>\n      <td>2</td>\n      <td>2</td>\n      <td>5</td>\n    </tr>\n    <tr>\n      <th>User 35</th>\n      <td>4</td>\n      <td>-1</td>\n      <td>5</td>\n      <td>4</td>\n      <td>2</td>\n      <td>2</td>\n      <td>3</td>\n      <td>1</td>\n      <td>1</td>\n      <td>5</td>\n      <td>...</td>\n      <td>5</td>\n      <td>1</td>\n      <td>2</td>\n      <td>1</td>\n      <td>5</td>\n      <td>5</td>\n      <td>1</td>\n      <td>-1</td>\n      <td>5</td>\n      <td>5</td>\n    </tr>\n    <tr>\n      <th>User 36</th>\n      <td>3</td>\n      <td>2</td>\n      <td>-1</td>\n      <td>5</td>\n      <td>5</td>\n      <td>1</td>\n      <td>5</td>\n      <td>2</td>\n      <td>1</td>\n      <td>5</td>\n      <td>...</td>\n      <td>-1</td>\n      <td>2</td>\n      <td>4</td>\n      <td>3</td>\n      <td>4</td>\n      <td>5</td>\n      <td>2</td>\n      <td>1</td>\n      <td>3</td>\n      <td>4</td>\n    </tr>\n    <tr>\n      <th>User 37</th>\n      <td>-1</td>\n      <td>4</td>\n      <td>-1</td>\n      <td>3</td>\n      <td>1</td>\n      <td>4</td>\n      <td>5</td>\n      <td>4</td>\n      <td>3</td>\n      <td>3</td>\n      <td>...</td>\n      <td>3</td>\n      <td>3</td>\n      <td>-1</td>\n      <td>5</td>\n      <td>-1</td>\n      <td>5</td>\n      <td>2</td>\n      <td>3</td>\n      <td>5</td>\n      <td>-1</td>\n    </tr>\n    <tr>\n      <th>User 38</th>\n      <td>3</td>\n      <td>-1</td>\n      <td>1</td>\n      <td>4</td>\n      <td>2</td>\n      <td>3</td>\n      <td>4</td>\n      <td>-1</td>\n      <td>5</td>\n      <td>3</td>\n      <td>...</td>\n      <td>5</td>\n      <td>4</td>\n      <td>3</td>\n      <td>-1</td>\n      <td>1</td>\n      <td>4</td>\n      <td>3</td>\n      <td>-1</td>\n      <td>-1</td>\n      <td>4</td>\n    </tr>\n    <tr>\n      <th>User 39</th>\n      <td>1</td>\n      <td>-1</td>\n      <td>5</td>\n      <td>-1</td>\n      <td>1</td>\n      <td>2</td>\n      <td>3</td>\n      <td>-1</td>\n      <td>2</td>\n      <td>5</td>\n      <td>...</td>\n      <td>4</td>\n      <td>2</td>\n      <td>5</td>\n      <td>2</td>\n      <td>3</td>\n      <td>1</td>\n      <td>2</td>\n      <td>1</td>\n      <td>2</td>\n      <td>1</td>\n    </tr>\n    <tr>\n      <th>User 40</th>\n      <td>-1</td>\n      <td>1</td>\n      <td>1</td>\n      <td>1</td>\n      <td>1</td>\n      <td>-1</td>\n      <td>4</td>\n      <td>1</td>\n      <td>-1</td>\n      <td>3</td>\n      <td>...</td>\n      <td>3</td>\n      <td>5</td>\n      <td>4</td>\n      <td>2</td>\n      <td>3</td>\n      <td>4</td>\n      <td>5</td>\n      <td>5</td>\n      <td>3</td>\n      <td>2</td>\n    </tr>\n  </tbody>\n</table>\n<p>40 rows × 30 columns</p>\n</div>",
      "text/plain": "         Movie 1  Movie 2  Movie 3  Movie 4  Movie 5  Movie 6  Movie 7  \\\nUser 1        -1        4        1        5       -1       -1       -1   \nUser 2         4        5        2        3        3        4       -1   \nUser 3         4        2        5        4        1        5       -1   \nUser 4         5       -1        2       -1       -1        2        4   \nUser 5         4        3        3        3        5        3        3   \nUser 6         2       -1        3        3        3        3        4   \nUser 7         4        1        4        4        1        4        5   \nUser 8        -1        5        5        3        3        3        3   \nUser 9         1        2        3        1        5        3        3   \nUser 10        5       -1        1       -1        3        3        4   \nUser 11       -1        5       -1        1        5        2        4   \nUser 12        5        4        4       -1        3       -1        5   \nUser 13        1        1        4        5        4        3        5   \nUser 14        3        5        4       -1        1        2        4   \nUser 15        3        5        3        4        4       -1        4   \nUser 16        3        3        5        3        2        2        5   \nUser 17        1        1       -1       -1        4        4       -1   \nUser 18        4        3        3        2        1        5        3   \nUser 19        4        3        5        5        4        4       -1   \nUser 20        2       -1        2        5       -1       -1        1   \nUser 21       -1        2        1        2        3        5        4   \nUser 22        2        4        4       -1        4       -1        4   \nUser 23        5        1       -1        5        5       -1       -1   \nUser 24        5        4        2       -1        2        1        3   \nUser 25        3        1       -1        4        2       -1        4   \nUser 26        1        5       -1        3       -1        2        4   \nUser 27        4        4        3       -1        4        5        3   \nUser 28       -1       -1        4        2        3        2        1   \nUser 29        3        2        4        2        2        2        4   \nUser 30        2        3        5        4        1        3        3   \nUser 31        3        5        4        5        1        3        3   \nUser 32        5        4        5        4        1        5        5   \nUser 33        5        3        4        4        2        1        3   \nUser 34       -1        5       -1       -1        1       -1        5   \nUser 35        4       -1        5        4        2        2        3   \nUser 36        3        2       -1        5        5        1        5   \nUser 37       -1        4       -1        3        1        4        5   \nUser 38        3       -1        1        4        2        3        4   \nUser 39        1       -1        5       -1        1        2        3   \nUser 40       -1        1        1        1        1       -1        4   \n\n         Movie 8  Movie 9  Movie 10  ...  Movie 21  Movie 22  Movie 23  \\\nUser 1         1        3        -1  ...         2         4        -1   \nUser 2         5        3         2  ...        -1         2        -1   \nUser 3         3        5         2  ...         4        -1         5   \nUser 4         3        2         3  ...        -1         2         2   \nUser 5         4        5         2  ...         4         5         2   \nUser 6         2       -1         1  ...         5        -1         1   \nUser 7         2        2        -1  ...         2         5         1   \nUser 8         3        1         2  ...        -1         3         1   \nUser 9         1        2         5  ...         3         2         3   \nUser 10        1        1         2  ...         4         1         4   \nUser 11        2        4        -1  ...         4        -1         3   \nUser 12        5        5         3  ...         1         4         1   \nUser 13        5        5         4  ...         2         3         2   \nUser 14       -1       -1         4  ...         4         1         5   \nUser 15        4        2         1  ...         2         2         5   \nUser 16       -1        4         4  ...         1         3         4   \nUser 17       -1        1         1  ...         4         2         4   \nUser 18        4        5         2  ...        -1         4         5   \nUser 19       -1        4         4  ...         2         3         1   \nUser 20       -1        2        -1  ...        -1         2         4   \nUser 21        1        2         3  ...        -1         5         1   \nUser 22        5        5         4  ...         4         5         1   \nUser 23        5       -1         3  ...        -1        -1         3   \nUser 24        2        1         2  ...         4         2         2   \nUser 25        1        5         3  ...         2        -1         5   \nUser 26       -1        4         2  ...         5         3         1   \nUser 27        4        3        -1  ...        -1         3         4   \nUser 28        4       -1         1  ...         1         3         2   \nUser 29        1        3         3  ...         3        -1         3   \nUser 30        2        3         1  ...         4         5         1   \nUser 31        3        4         1  ...         5         4         4   \nUser 32        4        4        -1  ...         5         2        -1   \nUser 33        1        3         3  ...         2         1         5   \nUser 34        1        1         5  ...         3         3         4   \nUser 35        1        1         5  ...         5         1         2   \nUser 36        2        1         5  ...        -1         2         4   \nUser 37        4        3         3  ...         3         3        -1   \nUser 38       -1        5         3  ...         5         4         3   \nUser 39       -1        2         5  ...         4         2         5   \nUser 40        1       -1         3  ...         3         5         4   \n\n         Movie 24  Movie 25  Movie 26  Movie 27  Movie 28  Movie 29  Movie 30  \nUser 1         -1         3         4        -1         2         4         1  \nUser 2          3         1         5        -1         5         2         2  \nUser 3          4         5         1         2         1        -1         3  \nUser 4          2         2         5         3         2         5         5  \nUser 5         -1         3         5         1        -1         5        -1  \nUser 6          3        -1         4         4         5         1         2  \nUser 7          3         4        -1         4         3         1         4  \nUser 8          3         2         1         4        -1         1         3  \nUser 9         -1         1         4         3         1         5         3  \nUser 10         1         4         5         2         3        -1         1  \nUser 11         4         1         2         4         2         5         1  \nUser 12         5         3         5         4         3         5         5  \nUser 13        -1         4         3        -1         5         5         4  \nUser 14         4         1        -1         3         1         5         3  \nUser 15         1         3         4        -1        -1         5         4  \nUser 16        -1         4         4         4         2         4         4  \nUser 17         2         2        -1         5         4         5         3  \nUser 18         2         1         1         2         1        -1         4  \nUser 19         2        -1         2         5         1         2         1  \nUser 20         1        -1         2         2         3         3         4  \nUser 21         2         5         5         4         4         2        -1  \nUser 22        -1        -1         5         2         2         5        -1  \nUser 23         1         5        -1         1         5         3         5  \nUser 24         1         3         2         5         2         5         4  \nUser 25         5         2        -1         1         3         1         2  \nUser 26         5         2        -1         2         2         4        -1  \nUser 27         3        -1         3         2         3         2         5  \nUser 28         1         4         3         2         4         2         1  \nUser 29         5         5         5         4        -1         5        -1  \nUser 30         1         4         5         3         1         3         5  \nUser 31         3         5         2         2         4         4        -1  \nUser 32         2         3         2         1         3         1        -1  \nUser 33         5         2        -1         2         1         4         2  \nUser 34        -1         3         1         5         2         2         5  \nUser 35         1         5         5         1        -1         5         5  \nUser 36         3         4         5         2         1         3         4  \nUser 37         5        -1         5         2         3         5        -1  \nUser 38        -1         1         4         3        -1        -1         4  \nUser 39         2         3         1         2         1         2         1  \nUser 40         2         3         4         5         5         3         2  \n\n[40 rows x 30 columns]"
     },
     "execution_count": 13,
     "metadata": {},
     "output_type": "execute_result"
    }
   ],
   "source": [
    "data"
   ]
  },
  {
   "cell_type": "code",
   "execution_count": 14,
   "metadata": {},
   "outputs": [
    {
     "data": {
      "text/html": "<div>\n<style scoped>\n    .dataframe tbody tr th:only-of-type {\n        vertical-align: middle;\n    }\n\n    .dataframe tbody tr th {\n        vertical-align: top;\n    }\n\n    .dataframe thead th {\n        text-align: right;\n    }\n</style>\n<table border=\"1\" class=\"dataframe\">\n  <thead>\n    <tr style=\"text-align: right;\">\n      <th></th>\n      <th>User 5</th>\n    </tr>\n  </thead>\n  <tbody>\n    <tr>\n      <th>Movie 1</th>\n      <td>4.0</td>\n    </tr>\n    <tr>\n      <th>Movie 2</th>\n      <td>3.0</td>\n    </tr>\n    <tr>\n      <th>Movie 3</th>\n      <td>3.0</td>\n    </tr>\n    <tr>\n      <th>Movie 4</th>\n      <td>3.0</td>\n    </tr>\n    <tr>\n      <th>Movie 5</th>\n      <td>5.0</td>\n    </tr>\n    <tr>\n      <th>Movie 6</th>\n      <td>3.0</td>\n    </tr>\n    <tr>\n      <th>Movie 7</th>\n      <td>3.0</td>\n    </tr>\n    <tr>\n      <th>Movie 8</th>\n      <td>4.0</td>\n    </tr>\n    <tr>\n      <th>Movie 9</th>\n      <td>5.0</td>\n    </tr>\n    <tr>\n      <th>Movie 10</th>\n      <td>2.0</td>\n    </tr>\n    <tr>\n      <th>Movie 11</th>\n      <td>3.0</td>\n    </tr>\n    <tr>\n      <th>Movie 12</th>\n      <td>2.0</td>\n    </tr>\n    <tr>\n      <th>Movie 13</th>\n      <td>NaN</td>\n    </tr>\n    <tr>\n      <th>Movie 14</th>\n      <td>5.0</td>\n    </tr>\n    <tr>\n      <th>Movie 15</th>\n      <td>3.0</td>\n    </tr>\n    <tr>\n      <th>Movie 16</th>\n      <td>2.0</td>\n    </tr>\n    <tr>\n      <th>Movie 17</th>\n      <td>2.0</td>\n    </tr>\n    <tr>\n      <th>Movie 18</th>\n      <td>3.0</td>\n    </tr>\n    <tr>\n      <th>Movie 19</th>\n      <td>1.0</td>\n    </tr>\n    <tr>\n      <th>Movie 20</th>\n      <td>5.0</td>\n    </tr>\n    <tr>\n      <th>Movie 21</th>\n      <td>4.0</td>\n    </tr>\n    <tr>\n      <th>Movie 22</th>\n      <td>5.0</td>\n    </tr>\n    <tr>\n      <th>Movie 23</th>\n      <td>2.0</td>\n    </tr>\n    <tr>\n      <th>Movie 24</th>\n      <td>NaN</td>\n    </tr>\n    <tr>\n      <th>Movie 25</th>\n      <td>3.0</td>\n    </tr>\n    <tr>\n      <th>Movie 26</th>\n      <td>5.0</td>\n    </tr>\n    <tr>\n      <th>Movie 27</th>\n      <td>1.0</td>\n    </tr>\n    <tr>\n      <th>Movie 28</th>\n      <td>NaN</td>\n    </tr>\n    <tr>\n      <th>Movie 29</th>\n      <td>5.0</td>\n    </tr>\n    <tr>\n      <th>Movie 30</th>\n      <td>NaN</td>\n    </tr>\n  </tbody>\n</table>\n</div>",
      "text/plain": "          User 5\nMovie 1      4.0\nMovie 2      3.0\nMovie 3      3.0\nMovie 4      3.0\nMovie 5      5.0\nMovie 6      3.0\nMovie 7      3.0\nMovie 8      4.0\nMovie 9      5.0\nMovie 10     2.0\nMovie 11     3.0\nMovie 12     2.0\nMovie 13     NaN\nMovie 14     5.0\nMovie 15     3.0\nMovie 16     2.0\nMovie 17     2.0\nMovie 18     3.0\nMovie 19     1.0\nMovie 20     5.0\nMovie 21     4.0\nMovie 22     5.0\nMovie 23     2.0\nMovie 24     NaN\nMovie 25     3.0\nMovie 26     5.0\nMovie 27     1.0\nMovie 28     NaN\nMovie 29     5.0\nMovie 30     NaN"
     },
     "execution_count": 14,
     "metadata": {},
     "output_type": "execute_result"
    }
   ],
   "source": [
    "data_myUser = data[lambda x: x!=-1].iloc[MY_USER_INDEX]\n",
    "data_myUser.to_frame().head(30)           "
   ]
  },
  {
   "cell_type": "code",
   "execution_count": 15,
   "metadata": {},
   "outputs": [
    {
     "name": "stdout",
     "output_type": "stream",
     "text": [
      "User 5 average score: 3.308\n"
     ]
    }
   ],
   "source": [
    "my_user_avg_score = round(data_myUser.mean(),3)\n",
    "print(MY_USER_STRING, \"average score:\", my_user_avg_score)"
   ]
  },
  {
   "cell_type": "code",
   "execution_count": 16,
   "metadata": {
    "tags": []
   },
   "outputs": [
    {
     "data": {
      "text/plain": "User 12    0.922\nUser 22    0.917\nUser 2     0.909\nUser 4     0.890\nUser 38    0.885\nUser 23    0.885\nUser 31    0.882\nUser 1     0.879\nUser 30    0.878\nUser 28    0.877\nUser 29    0.869\nUser 27    0.869\nUser 37    0.866\nUser 26    0.864\nUser 36    0.863\nUser 35    0.862\nUser 13    0.858\nUser 16    0.857\nUser 18    0.852\nUser 25    0.852\nUser 21    0.850\nUser 19    0.848\nUser 15    0.845\nUser 9     0.840\nUser 6     0.839\nUser 20    0.836\nUser 33    0.834\nUser 7     0.831\nUser 11    0.825\nUser 24    0.824\nUser 40    0.822\nUser 32    0.820\nUser 3     0.813\nUser 14    0.808\nUser 17    0.808\nUser 8     0.800\nUser 10    0.787\nUser 39    0.779\nUser 34    0.752\nName: 0, dtype: float64"
     },
     "execution_count": 16,
     "metadata": {},
     "output_type": "execute_result"
    }
   ],
   "source": [
    "def get_sim(user):\n",
    "    data_copy = data.copy()\n",
    "    user_sim = {}\n",
    "    for cur_user in indexes['users']:\n",
    "        if cur_user != user:\n",
    "            pair = data_copy.loc[[user,cur_user]].transpose()\n",
    "            pair = pair[(pair[user] != NO_RATING)&(pair[cur_user] != NO_RATING)]\n",
    "            pair_cur_user = pair[cur_user].to_numpy()\n",
    "            pair_user = pair[user].to_numpy()\n",
    "            sim = sum(pair_cur_user * pair_user) / (np.sqrt(sum(pair_user ** 2)) * np.sqrt(sum(pair_cur_user ** 2)))\n",
    "            user_sim[cur_user] = round(sim,ROUND_PRECISION)\n",
    "    return user_sim\n",
    "sim_dict = get_sim(MY_USER_STRING)\n",
    "sim_df = pd.DataFrame.from_dict(sim_dict, orient='index')[0]\n",
    "sim_df = sim_df.sort_values(ascending = False)\n",
    "sim_df\n"
   ]
  },
  {
   "cell_type": "code",
   "execution_count": 17,
   "metadata": {},
   "outputs": [
    {
     "data": {
      "text/plain": "Index(['Movie 13', 'Movie 24', 'Movie 28', 'Movie 30'], dtype='object')"
     },
     "execution_count": 17,
     "metadata": {},
     "output_type": "execute_result"
    }
   ],
   "source": [
    "myUser_unrated_movies = data.iloc[MY_USER_INDEX][lambda x: x == -1].index\n",
    "myUser_unrated_movies"
   ]
  }
 ],
 "metadata": {
  "kernelspec": {
   "display_name": "Python 3.8.3 64-bit ('base': conda)",
   "metadata": {
    "interpreter": {
     "hash": "98b0a9b7b4eaaa670588a142fd0a9b87eaafe866f1db4228be72b4211d12040f"
    }
   },
   "name": "python3"
  },
  "language_info": {
   "codemirror_mode": {
    "name": "ipython",
    "version": 3
   },
   "file_extension": ".py",
   "mimetype": "text/x-python",
   "name": "python",
   "nbconvert_exporter": "python",
   "pygments_lexer": "ipython3",
   "version": "3.8.3"
  }
 },
 "nbformat": 4,
 "nbformat_minor": 4
}