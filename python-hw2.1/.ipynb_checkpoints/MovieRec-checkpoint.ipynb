{
 "cells": [
  {
   "cell_type": "code",
   "execution_count": 1,
   "metadata": {},
   "outputs": [],
   "source": [
    "import pandas as pd\n",
    "import numpy as np\n",
    "import json"
   ]
  },
  {
   "cell_type": "code",
   "execution_count": 2,
   "metadata": {},
   "outputs": [],
   "source": [
    "INDEX_COL = 0\n",
    "MY_USER_INDEX = 5 - 1\n",
    "MY_USER_STRING = 'User '+ str(MY_USER_INDEX + 1)\n",
    "ROUND_PRECISION = 3\n",
    "NO_RATING = -1\n",
    "KNN_VALUE = 4"
   ]
  },
  {
   "cell_type": "markdown",
   "metadata": {},
   "source": [
    "# Задание 1"
   ]
  },
  {
   "cell_type": "code",
   "execution_count": 3,
   "metadata": {},
   "outputs": [
    {
     "data": {
      "text/plain": [
       "{'users': Index(['User 1', 'User 2', 'User 3', 'User 4', 'User 5', 'User 6', 'User 7',\n",
       "        'User 8', 'User 9', 'User 10', 'User 11', 'User 12', 'User 13',\n",
       "        'User 14', 'User 15', 'User 16', 'User 17', 'User 18', 'User 19',\n",
       "        'User 20', 'User 21', 'User 22', 'User 23', 'User 24', 'User 25',\n",
       "        'User 26', 'User 27', 'User 28', 'User 29', 'User 30', 'User 31',\n",
       "        'User 32', 'User 33', 'User 34', 'User 35', 'User 36', 'User 37',\n",
       "        'User 38', 'User 39', 'User 40'],\n",
       "       dtype='object'),\n",
       " 'movies': Index(['Movie 1', 'Movie 2', 'Movie 3', 'Movie 4', 'Movie 5', 'Movie 6',\n",
       "        'Movie 7', 'Movie 8', 'Movie 9', 'Movie 10', 'Movie 11', 'Movie 12',\n",
       "        'Movie 13', 'Movie 14', 'Movie 15', 'Movie 16', 'Movie 17', 'Movie 18',\n",
       "        'Movie 19', 'Movie 20', 'Movie 21', 'Movie 22', 'Movie 23', 'Movie 24',\n",
       "        'Movie 25', 'Movie 26', 'Movie 27', 'Movie 28', 'Movie 29', 'Movie 30'],\n",
       "       dtype='object')}"
      ]
     },
     "execution_count": 3,
     "metadata": {},
     "output_type": "execute_result"
    }
   ],
   "source": [
    "data = pd.read_csv('CSV/data.csv', index_col=INDEX_COL, delimiter=', ', engine='python')\n",
    "context_day = pd.read_csv('CSV/context_day.csv', index_col=INDEX_COL, delimiter=', ', engine='python')\n",
    "context_place = pd.read_csv('CSV/context_place.csv', index_col=INDEX_COL, delimiter=', ', engine='python')\n",
    "movie_names = pd.read_csv('CSV/movie_names.csv', index_col=INDEX_COL, delimiter=', ', engine='python', header=None)\n",
    "\n",
    "indexes = dict(users = data.index, movies = data.keys())\n",
    "indexes"
   ]
  },
  {
   "cell_type": "code",
   "execution_count": 4,
   "metadata": {},
   "outputs": [
    {
     "data": {
      "text/html": [
       "<div>\n",
       "<style scoped>\n",
       "    .dataframe tbody tr th:only-of-type {\n",
       "        vertical-align: middle;\n",
       "    }\n",
       "\n",
       "    .dataframe tbody tr th {\n",
       "        vertical-align: top;\n",
       "    }\n",
       "\n",
       "    .dataframe thead th {\n",
       "        text-align: right;\n",
       "    }\n",
       "</style>\n",
       "<table border=\"1\" class=\"dataframe\">\n",
       "  <thead>\n",
       "    <tr style=\"text-align: right;\">\n",
       "      <th></th>\n",
       "      <th>Movie 1</th>\n",
       "      <th>Movie 2</th>\n",
       "      <th>Movie 3</th>\n",
       "      <th>Movie 4</th>\n",
       "      <th>Movie 5</th>\n",
       "      <th>Movie 6</th>\n",
       "      <th>Movie 7</th>\n",
       "      <th>Movie 8</th>\n",
       "      <th>Movie 9</th>\n",
       "      <th>Movie 10</th>\n",
       "      <th>...</th>\n",
       "      <th>Movie 21</th>\n",
       "      <th>Movie 22</th>\n",
       "      <th>Movie 23</th>\n",
       "      <th>Movie 24</th>\n",
       "      <th>Movie 25</th>\n",
       "      <th>Movie 26</th>\n",
       "      <th>Movie 27</th>\n",
       "      <th>Movie 28</th>\n",
       "      <th>Movie 29</th>\n",
       "      <th>Movie 30</th>\n",
       "    </tr>\n",
       "  </thead>\n",
       "  <tbody>\n",
       "    <tr>\n",
       "      <th>User 1</th>\n",
       "      <td>-1</td>\n",
       "      <td>4</td>\n",
       "      <td>1</td>\n",
       "      <td>5</td>\n",
       "      <td>-1</td>\n",
       "      <td>-1</td>\n",
       "      <td>-1</td>\n",
       "      <td>1</td>\n",
       "      <td>3</td>\n",
       "      <td>-1</td>\n",
       "      <td>...</td>\n",
       "      <td>2</td>\n",
       "      <td>4</td>\n",
       "      <td>-1</td>\n",
       "      <td>-1</td>\n",
       "      <td>3</td>\n",
       "      <td>4</td>\n",
       "      <td>-1</td>\n",
       "      <td>2</td>\n",
       "      <td>4</td>\n",
       "      <td>1</td>\n",
       "    </tr>\n",
       "    <tr>\n",
       "      <th>User 2</th>\n",
       "      <td>4</td>\n",
       "      <td>5</td>\n",
       "      <td>2</td>\n",
       "      <td>3</td>\n",
       "      <td>3</td>\n",
       "      <td>4</td>\n",
       "      <td>-1</td>\n",
       "      <td>5</td>\n",
       "      <td>3</td>\n",
       "      <td>2</td>\n",
       "      <td>...</td>\n",
       "      <td>-1</td>\n",
       "      <td>2</td>\n",
       "      <td>-1</td>\n",
       "      <td>3</td>\n",
       "      <td>1</td>\n",
       "      <td>5</td>\n",
       "      <td>-1</td>\n",
       "      <td>5</td>\n",
       "      <td>2</td>\n",
       "      <td>2</td>\n",
       "    </tr>\n",
       "    <tr>\n",
       "      <th>User 3</th>\n",
       "      <td>4</td>\n",
       "      <td>2</td>\n",
       "      <td>5</td>\n",
       "      <td>4</td>\n",
       "      <td>1</td>\n",
       "      <td>5</td>\n",
       "      <td>-1</td>\n",
       "      <td>3</td>\n",
       "      <td>5</td>\n",
       "      <td>2</td>\n",
       "      <td>...</td>\n",
       "      <td>4</td>\n",
       "      <td>-1</td>\n",
       "      <td>5</td>\n",
       "      <td>4</td>\n",
       "      <td>5</td>\n",
       "      <td>1</td>\n",
       "      <td>2</td>\n",
       "      <td>1</td>\n",
       "      <td>-1</td>\n",
       "      <td>3</td>\n",
       "    </tr>\n",
       "    <tr>\n",
       "      <th>User 4</th>\n",
       "      <td>5</td>\n",
       "      <td>-1</td>\n",
       "      <td>2</td>\n",
       "      <td>-1</td>\n",
       "      <td>-1</td>\n",
       "      <td>2</td>\n",
       "      <td>4</td>\n",
       "      <td>3</td>\n",
       "      <td>2</td>\n",
       "      <td>3</td>\n",
       "      <td>...</td>\n",
       "      <td>-1</td>\n",
       "      <td>2</td>\n",
       "      <td>2</td>\n",
       "      <td>2</td>\n",
       "      <td>2</td>\n",
       "      <td>5</td>\n",
       "      <td>3</td>\n",
       "      <td>2</td>\n",
       "      <td>5</td>\n",
       "      <td>5</td>\n",
       "    </tr>\n",
       "    <tr>\n",
       "      <th>User 5</th>\n",
       "      <td>4</td>\n",
       "      <td>3</td>\n",
       "      <td>3</td>\n",
       "      <td>3</td>\n",
       "      <td>5</td>\n",
       "      <td>3</td>\n",
       "      <td>3</td>\n",
       "      <td>4</td>\n",
       "      <td>5</td>\n",
       "      <td>2</td>\n",
       "      <td>...</td>\n",
       "      <td>4</td>\n",
       "      <td>5</td>\n",
       "      <td>2</td>\n",
       "      <td>-1</td>\n",
       "      <td>3</td>\n",
       "      <td>5</td>\n",
       "      <td>1</td>\n",
       "      <td>-1</td>\n",
       "      <td>5</td>\n",
       "      <td>-1</td>\n",
       "    </tr>\n",
       "  </tbody>\n",
       "</table>\n",
       "<p>5 rows × 30 columns</p>\n",
       "</div>"
      ],
      "text/plain": [
       "        Movie 1  Movie 2  Movie 3  Movie 4  Movie 5  Movie 6  Movie 7  \\\n",
       "User 1       -1        4        1        5       -1       -1       -1   \n",
       "User 2        4        5        2        3        3        4       -1   \n",
       "User 3        4        2        5        4        1        5       -1   \n",
       "User 4        5       -1        2       -1       -1        2        4   \n",
       "User 5        4        3        3        3        5        3        3   \n",
       "\n",
       "        Movie 8  Movie 9  Movie 10  ...  Movie 21  Movie 22  Movie 23  \\\n",
       "User 1        1        3        -1  ...         2         4        -1   \n",
       "User 2        5        3         2  ...        -1         2        -1   \n",
       "User 3        3        5         2  ...         4        -1         5   \n",
       "User 4        3        2         3  ...        -1         2         2   \n",
       "User 5        4        5         2  ...         4         5         2   \n",
       "\n",
       "        Movie 24  Movie 25  Movie 26  Movie 27  Movie 28  Movie 29  Movie 30  \n",
       "User 1        -1         3         4        -1         2         4         1  \n",
       "User 2         3         1         5        -1         5         2         2  \n",
       "User 3         4         5         1         2         1        -1         3  \n",
       "User 4         2         2         5         3         2         5         5  \n",
       "User 5        -1         3         5         1        -1         5        -1  \n",
       "\n",
       "[5 rows x 30 columns]"
      ]
     },
     "execution_count": 4,
     "metadata": {},
     "output_type": "execute_result"
    }
   ],
   "source": [
    "data.head()"
   ]
  },
  {
   "cell_type": "code",
   "execution_count": 5,
   "metadata": {},
   "outputs": [],
   "source": [
    "my_user_data = data[lambda x: x!=-1].iloc[MY_USER_INDEX]     "
   ]
  },
  {
   "cell_type": "code",
   "execution_count": 6,
   "metadata": {},
   "outputs": [
    {
     "name": "stdout",
     "output_type": "stream",
     "text": [
      "User 5 average score: 3.308\n"
     ]
    }
   ],
   "source": [
    "my_user_avg_score = round(my_user_data.mean(),3)\n",
    "print(MY_USER_STRING, \"average score:\", my_user_avg_score)"
   ]
  },
  {
   "cell_type": "code",
   "execution_count": 7,
   "metadata": {
    "tags": []
   },
   "outputs": [
    {
     "data": {
      "text/plain": [
       "User 12    0.922\n",
       "User 22    0.917\n",
       "User 2     0.909\n",
       "User 4     0.890\n",
       "Name: 0, dtype: float64"
      ]
     },
     "execution_count": 7,
     "metadata": {},
     "output_type": "execute_result"
    }
   ],
   "source": [
    "def get_sim(user):\n",
    "    data_copy = data.copy()\n",
    "    user_sim = {}\n",
    "    for cur_user in indexes['users']:\n",
    "        if cur_user != user:\n",
    "            pair = data_copy.loc[[user,cur_user]].transpose()\n",
    "            pair = pair[(pair[user] != NO_RATING) & (pair[cur_user] != NO_RATING)]\n",
    "            pair_cur_user = pair[cur_user].to_numpy()\n",
    "            pair_user = pair[user].to_numpy()\n",
    "            sim = sum(pair_cur_user * pair_user) / (np.sqrt(sum(pair_user ** 2)) * np.sqrt(sum(pair_cur_user ** 2)))\n",
    "            user_sim[cur_user] = round(sim, ROUND_PRECISION)\n",
    "    return user_sim\n",
    "\n",
    "sim_dict = get_sim(MY_USER_STRING)\n",
    "sim_df = pd.DataFrame.from_dict(sim_dict, orient='index')[0]\n",
    "sim_df = sim_df.sort_values(ascending = False)\n",
    "sim_df.head(KNN_VALUE)"
   ]
  },
  {
   "cell_type": "code",
   "execution_count": 8,
   "metadata": {},
   "outputs": [
    {
     "data": {
      "text/plain": [
       "User 1     2.952\n",
       "User 2     3.292\n",
       "User 3     2.800\n",
       "User 4     3.143\n",
       "User 5     3.308\n",
       "User 6     3.160\n",
       "User 7     2.880\n",
       "User 8     3.292\n",
       "User 9     2.808\n",
       "User 10    2.720\n",
       "User 11    3.125\n",
       "User 12    3.846\n",
       "User 13    3.154\n",
       "User 14    3.000\n",
       "User 15    3.375\n",
       "User 16    3.407\n",
       "User 17    3.000\n",
       "User 18    2.704\n",
       "User 19    3.125\n",
       "User 20    3.182\n",
       "User 21    2.960\n",
       "User 22    3.217\n",
       "User 23    3.391\n",
       "User 24    2.815\n",
       "User 25    2.760\n",
       "User 26    2.920\n",
       "User 27    3.333\n",
       "User 28    2.923\n",
       "User 29    3.200\n",
       "User 30    2.964\n",
       "User 31    3.074\n",
       "User 32    3.000\n",
       "User 33    2.769\n",
       "User 34    3.042\n",
       "User 35    3.174\n",
       "User 36    3.125\n",
       "User 37    3.250\n",
       "User 38    3.000\n",
       "User 39    2.680\n",
       "User 40    2.963\n",
       "dtype: float64"
      ]
     },
     "execution_count": 8,
     "metadata": {},
     "output_type": "execute_result"
    }
   ],
   "source": [
    "avg_user_rating = data.copy()\n",
    "avg_user_rating = round(avg_user_rating[lambda x: x!=-1].transpose().mean(), 3)\n",
    "avg_user_rating"
   ]
  },
  {
   "cell_type": "code",
   "execution_count": 9,
   "metadata": {},
   "outputs": [
    {
     "data": {
      "text/plain": [
       "Index(['Movie 13', 'Movie 24', 'Movie 28', 'Movie 30'], dtype='object')"
      ]
     },
     "execution_count": 9,
     "metadata": {},
     "output_type": "execute_result"
    }
   ],
   "source": [
    "my_user_unrated_movies = data.iloc[MY_USER_INDEX][lambda x: x == -1].index\n",
    "my_user_unrated_movies"
   ]
  },
  {
   "cell_type": "code",
   "execution_count": 10,
   "metadata": {},
   "outputs": [
    {
     "name": "stdout",
     "output_type": "stream",
     "text": [
      "{'Movie 13': 4.521, 'Movie 24': 3.228, 'Movie 28': 2.934, 'Movie 30': 3.875}\n"
     ]
    }
   ],
   "source": [
    "calculated_ratings = {}\n",
    "for movie in my_user_unrated_movies:\n",
    "    top = 0\n",
    "    bottom = 0\n",
    "    for user, value in sim_df[0:KNN_VALUE].items():\n",
    "        if data.loc[user,movie] != NO_RATING:\n",
    "            top += value * (data.loc[user, movie] - avg_user_rating[user])\n",
    "            bottom += value            \n",
    "    calculated_ratings[movie] = round(my_user_avg_score + (top / bottom), 3)\n",
    "print(calculated_ratings)"
   ]
  },
  {
   "cell_type": "markdown",
   "metadata": {},
   "source": [
    "# Задание 2"
   ]
  },
  {
   "cell_type": "code",
   "execution_count": 11,
   "metadata": {},
   "outputs": [
    {
     "data": {
      "text/plain": [
       "Index(['Movie 13', 'Movie 24', 'Movie 28', 'Movie 30'], dtype='object')"
      ]
     },
     "execution_count": 11,
     "metadata": {},
     "output_type": "execute_result"
    }
   ],
   "source": [
    "CONTEXT_DAYS = ['Sat', 'Sun']\n",
    "CONTEXT_PLACE = 'h'\n",
    "my_user_unrated_movies"
   ]
  },
  {
   "cell_type": "code",
   "execution_count": 12,
   "metadata": {},
   "outputs": [],
   "source": [
    "context_ratings = {}\n",
    "for movie in my_user_unrated_movies:\n",
    "    top = 0\n",
    "    bottom = 0\n",
    "    for user, value in sim_df[0:KNN_VALUE].items():\n",
    "        if data.loc[user,movie] != NO_RATING:\n",
    "            if context_day.loc[user, movie] in CONTEXT_DAYS:\n",
    "                top += value * (data.loc[user, movie] - avg_user_rating[user])\n",
    "                bottom += value\n",
    "            if context_place.loc[user, movie] == CONTEXT_PLACE:\n",
    "                top += value * (data.loc[user, movie] - avg_user_rating[user])\n",
    "                bottom += value\n",
    "    if bottom == 0:\n",
    "        context_ratings[movie] = round(my_user_avg_score + 0, 3)\n",
    "    else:\n",
    "        context_ratings[movie] = round(my_user_avg_score + (top / bottom), 3)\n",
    "\n",
    "movie_recommendation = list(dict(sorted(context_ratings.items(), key=lambda item: item[1], reverse=True)[:1]).keys())[0]"
   ]
  },
  {
   "cell_type": "code",
   "execution_count": 13,
   "metadata": {},
   "outputs": [
    {
     "data": {
      "text/plain": [
       "{'user': 'User 5',\n",
       " '1': {'Movie 13': 4.521,\n",
       "  'Movie 24': 3.228,\n",
       "  'Movie 28': 2.934,\n",
       "  'Movie 30': 3.875},\n",
       " '2': 'The Green Mile'}"
      ]
     },
     "execution_count": 13,
     "metadata": {},
     "output_type": "execute_result"
    }
   ],
   "source": [
    "file_dict = {\n",
    "    'user': MY_USER_STRING,\n",
    "    '1': calculated_ratings,\n",
    "    '2': dict(movie_names.loc[movie_recommendation])[1],\n",
    "}\n",
    "with open('result.json', 'w') as fp:\n",
    "          json.dump(file_dict, fp, indent=3)\n",
    "file_dict"
   ]
  }
 ],
 "metadata": {
  "kernelspec": {
   "display_name": "Python 3",
   "language": "python",
   "name": "python3"
  },
  "language_info": {
   "codemirror_mode": {
    "name": "ipython",
    "version": 3
   },
   "file_extension": ".py",
   "mimetype": "text/x-python",
   "name": "python",
   "nbconvert_exporter": "python",
   "pygments_lexer": "ipython3",
   "version": "3.8.5"
  }
 },
 "nbformat": 4,
 "nbformat_minor": 4
}
