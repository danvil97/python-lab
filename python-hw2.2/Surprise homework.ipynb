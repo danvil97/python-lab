{
 "cells": [
  {
   "cell_type": "markdown",
   "metadata": {},
   "source": [
    "# Surprise homework"
   ]
  },
  {
   "cell_type": "code",
   "execution_count": 42,
   "metadata": {},
   "outputs": [],
   "source": [
    "import io\n",
    "import json\n",
    "import pandas as pd\n",
    "from collections import defaultdict\n",
    "from surprise import Dataset\n",
    "from surprise import SVD\n",
    "from surprise import accuracy\n",
    "from surprise import KNNWithMeans\n",
    "from surprise import NormalPredictor\n",
    "from surprise.model_selection import cross_validate\n",
    "from surprise.model_selection import train_test_split\n",
    "from surprise.model_selection import KFold\n",
    "from surprise import get_dataset_dir\n",
    "\n",
    "KNN_VALUE = 30\n",
    "MY_USER_NUM = '5'\n",
    "N = 5"
   ]
  },
  {
   "cell_type": "markdown",
   "metadata": {},
   "source": [
    "### Functions"
   ]
  },
  {
   "cell_type": "code",
   "execution_count": 44,
   "metadata": {},
   "outputs": [],
   "source": [
    "# используйте полезные функции из FAQ\n",
    "def get_top_n(predictions, n=10):\n",
    "    \"\"\"Return the top-N recommendation for each user from a set of predictions.\n",
    "\n",
    "    Args:\n",
    "        predictions(list of Prediction objects): The list of predictions, as\n",
    "            returned by the test method of an algorithm.\n",
    "        n(int): The number of recommendation to output for each user. Default\n",
    "            is 10.\n",
    "\n",
    "    Returns:\n",
    "    A dict where keys are user (raw) ids and values are lists of tuples:\n",
    "        [(raw item id, rating estimation), ...] of size n.\n",
    "    \"\"\"\n",
    "\n",
    "    # First map the predictions to each user.\n",
    "    top_n = defaultdict(list)\n",
    "    for uid, iid, true_r, est, _ in predictions:\n",
    "        top_n[uid].append((iid, est))\n",
    "\n",
    "    # Then sort the predictions for each user and retrieve the k highest ones.\n",
    "    for uid, user_ratings in top_n.items():\n",
    "        user_ratings.sort(key=lambda x: x[1], reverse=True)\n",
    "        top_n[uid] = user_ratings[:n]\n",
    "\n",
    "    return top_n\n",
    "\n",
    "def precision_recall_at_k(predictions, k=10, threshold=3.5):\n",
    "    \"\"\"Return precision and recall at k metrics for each user\"\"\"\n",
    "\n",
    "    # First map the predictions to each user.\n",
    "    user_est_true = defaultdict(list)\n",
    "    for uid, _, true_r, est, _ in predictions:\n",
    "        user_est_true[uid].append((est, true_r))\n",
    "\n",
    "    precisions = dict()\n",
    "    recalls = dict()\n",
    "    for uid, user_ratings in user_est_true.items():\n",
    "\n",
    "        # Sort user ratings by estimated value\n",
    "        user_ratings.sort(key=lambda x: x[0], reverse=True)\n",
    "\n",
    "        # Number of relevant items\n",
    "        n_rel = sum((true_r >= threshold) for (_, true_r) in user_ratings)\n",
    "\n",
    "        # Number of recommended items in top k\n",
    "        n_rec_k = sum((est >= threshold) for (est, _) in user_ratings[:k])\n",
    "\n",
    "        # Number of relevant and recommended items in top k\n",
    "        n_rel_and_rec_k = sum(((true_r >= threshold) and (est >= threshold))\n",
    "                              for (est, true_r) in user_ratings[:k])\n",
    "\n",
    "        # Precision@K: Proportion of recommended items that are relevant\n",
    "        # When n_rec_k is 0, Precision is undefined. We here set it to 0.\n",
    "\n",
    "        precisions[uid] = n_rel_and_rec_k / n_rec_k if n_rec_k != 0 else 0\n",
    "\n",
    "        # Recall@K: Proportion of relevant items that are recommended\n",
    "        # When n_rel is 0, Recall is undefined. We here set it to 0.\n",
    "\n",
    "        recalls[uid] = n_rel_and_rec_k / n_rel if n_rel != 0 else 0\n",
    "\n",
    "    return precisions, recalls\n",
    "\n",
    "def get_movie_names(movies):\n",
    "    movie_data = {}\n",
    "    movies_df = pd.read_csv(get_dataset_dir() + '/ml-100k/ml-100k/u.item', sep=\"|\", encoding='ansi', usecols=[0,1,2], names=['id','name', 'date'])\n",
    "    for movie_id, rate in movies:\n",
    "        movie_data[movie_id] = str(\"('{}', '{}') {}\".format(movies_df.at[int(movie_id) - 1, 'name'], movies_df.at[int(movie_id) - 1, 'date'], rate))\n",
    "    return movie_data"
   ]
  },
  {
   "cell_type": "markdown",
   "metadata": {},
   "source": [
    "### Load data"
   ]
  },
  {
   "cell_type": "code",
   "execution_count": 3,
   "metadata": {},
   "outputs": [
    {
     "data": {
      "text/plain": [
       "<surprise.dataset.DatasetAutoFolds at 0x230ab481610>"
      ]
     },
     "execution_count": 3,
     "metadata": {},
     "output_type": "execute_result"
    }
   ],
   "source": [
    "data = Dataset.load_builtin('ml-100k')\n",
    "data"
   ]
  },
  {
   "cell_type": "code",
   "execution_count": 4,
   "metadata": {},
   "outputs": [
    {
     "data": {
      "text/plain": [
       "<surprise.trainset.Trainset at 0x230aa3dbdc0>"
      ]
     },
     "execution_count": 4,
     "metadata": {},
     "output_type": "execute_result"
    }
   ],
   "source": [
    "trainset, testset = train_test_split(data, test_size=.25)\n",
    "trainset"
   ]
  },
  {
   "cell_type": "markdown",
   "metadata": {},
   "source": [
    "### Define algorithms"
   ]
  },
  {
   "cell_type": "code",
   "execution_count": 5,
   "metadata": {},
   "outputs": [],
   "source": [
    "# прогнозирование случайного рейтинга на основе распределения всех рейтингов в наборе\n",
    "alg_normal_predictor = NormalPredictor()\n",
    "# user-based коллаборативную фильтрацию, метод kNN, k = 30, метрика косинуса\n",
    "alg_kNN_cos = KNNWithMeans(k = KNN_VALUE, sim_options = { 'name': 'cosine' })\n",
    "# user-based коллаборативную фильтрацию, метод kNN, k = 30, метрика Mean Squared Difference\n",
    "alg_mean_squared_difference = KNNWithMeans(k = KNN_VALUE, sim_options = {'name': 'msd'})\n",
    "# user-based коллаборативную фильтрацию, метод kNN, k = 30, метрика корреляция Пирсона\n",
    "alg_Pearson = KNNWithMeans(k = KNN_VALUE, sim_options = { 'name': 'pearson' })\n",
    "# SVD алгоритм\n",
    "alg_svd = SVD()"
   ]
  },
  {
   "cell_type": "markdown",
   "metadata": {},
   "source": [
    "### Select algorithm"
   ]
  },
  {
   "cell_type": "code",
   "execution_count": 6,
   "metadata": {},
   "outputs": [
    {
     "name": "stdout",
     "output_type": "stream",
     "text": [
      "Evaluating RMSE of algorithm NormalPredictor on 5 split(s).\n",
      "\n",
      "                  Fold 1  Fold 2  Fold 3  Fold 4  Fold 5  Mean    Std     \n",
      "RMSE (testset)    1.5209  1.5037  1.5289  1.5222  1.5150  1.5182  0.0085  \n",
      "Fit time          0.13    0.17    0.22    0.16    0.18    0.17    0.03    \n",
      "Test time         0.17    0.13    0.14    0.17    0.16    0.15    0.02    \n"
     ]
    }
   ],
   "source": [
    "cv_normal_predictor = cross_validate(alg_normal_predictor, data, measures = ['RMSE'], verbose = True)"
   ]
  },
  {
   "cell_type": "code",
   "execution_count": 7,
   "metadata": {},
   "outputs": [
    {
     "name": "stdout",
     "output_type": "stream",
     "text": [
      "Computing the cosine similarity matrix...\n",
      "Done computing similarity matrix.\n",
      "Computing the cosine similarity matrix...\n",
      "Done computing similarity matrix.\n",
      "Computing the cosine similarity matrix...\n",
      "Done computing similarity matrix.\n",
      "Computing the cosine similarity matrix...\n",
      "Done computing similarity matrix.\n",
      "Computing the cosine similarity matrix...\n",
      "Done computing similarity matrix.\n",
      "Evaluating RMSE of algorithm KNNWithMeans on 5 split(s).\n",
      "\n",
      "                  Fold 1  Fold 2  Fold 3  Fold 4  Fold 5  Mean    Std     \n",
      "RMSE (testset)    0.9593  0.9554  0.9592  0.9614  0.9582  0.9587  0.0020  \n",
      "Fit time          2.03    2.26    1.88    2.39    2.05    2.12    0.18    \n",
      "Test time         3.67    4.12    3.83    4.13    4.60    4.07    0.32    \n"
     ]
    }
   ],
   "source": [
    "cv_kNN_cos = cross_validate(alg_kNN_cos, data, measures = ['RMSE'], verbose = True)"
   ]
  },
  {
   "cell_type": "code",
   "execution_count": 8,
   "metadata": {},
   "outputs": [
    {
     "name": "stdout",
     "output_type": "stream",
     "text": [
      "Computing the msd similarity matrix...\n",
      "Done computing similarity matrix.\n",
      "Computing the msd similarity matrix...\n",
      "Done computing similarity matrix.\n",
      "Computing the msd similarity matrix...\n",
      "Done computing similarity matrix.\n",
      "Computing the msd similarity matrix...\n",
      "Done computing similarity matrix.\n",
      "Computing the msd similarity matrix...\n",
      "Done computing similarity matrix.\n",
      "Evaluating RMSE of algorithm KNNWithMeans on 5 split(s).\n",
      "\n",
      "                  Fold 1  Fold 2  Fold 3  Fold 4  Fold 5  Mean    Std     \n",
      "RMSE (testset)    0.9579  0.9520  0.9469  0.9522  0.9486  0.9515  0.0038  \n",
      "Fit time          0.63    0.63    0.78    0.60    0.61    0.65    0.07    \n",
      "Test time         5.51    4.10    5.36    3.84    4.97    4.76    0.67    \n"
     ]
    }
   ],
   "source": [
    "cv_mean_squared_difference = cross_validate(alg_mean_squared_difference, data, measures = ['RMSE'], verbose = True)"
   ]
  },
  {
   "cell_type": "code",
   "execution_count": 9,
   "metadata": {},
   "outputs": [
    {
     "name": "stdout",
     "output_type": "stream",
     "text": [
      "Computing the pearson similarity matrix...\n",
      "Done computing similarity matrix.\n",
      "Computing the pearson similarity matrix...\n",
      "Done computing similarity matrix.\n",
      "Computing the pearson similarity matrix...\n",
      "Done computing similarity matrix.\n",
      "Computing the pearson similarity matrix...\n",
      "Done computing similarity matrix.\n",
      "Computing the pearson similarity matrix...\n",
      "Done computing similarity matrix.\n",
      "Evaluating RMSE of algorithm KNNWithMeans on 5 split(s).\n",
      "\n",
      "                  Fold 1  Fold 2  Fold 3  Fold 4  Fold 5  Mean    Std     \n",
      "RMSE (testset)    0.9581  0.9583  0.9533  0.9400  0.9472  0.9514  0.0070  \n",
      "Fit time          2.94    2.54    3.08    2.54    2.39    2.70    0.26    \n",
      "Test time         5.36    4.55    4.94    3.96    3.71    4.50    0.61    \n"
     ]
    }
   ],
   "source": [
    "cv_Pearson = cross_validate(alg_Pearson, data, measures = ['RMSE'], verbose = True)"
   ]
  },
  {
   "cell_type": "code",
   "execution_count": 10,
   "metadata": {},
   "outputs": [
    {
     "name": "stdout",
     "output_type": "stream",
     "text": [
      "Evaluating RMSE of algorithm SVD on 5 split(s).\n",
      "\n",
      "                  Fold 1  Fold 2  Fold 3  Fold 4  Fold 5  Mean    Std     \n",
      "RMSE (testset)    0.9322  0.9397  0.9343  0.9325  0.9412  0.9360  0.0037  \n",
      "Fit time          6.37    6.06    5.17    5.42    5.15    5.63    0.49    \n",
      "Test time         0.17    0.23    0.23    0.18    0.23    0.21    0.03    \n"
     ]
    }
   ],
   "source": [
    "cv_svd = cross_validate(alg_svd, data, measures = ['RMSE'], verbose = True)"
   ]
  },
  {
   "cell_type": "markdown",
   "metadata": {},
   "source": [
    "> SVD has the least Test time, so we should select it"
   ]
  },
  {
   "cell_type": "code",
   "execution_count": 11,
   "metadata": {},
   "outputs": [],
   "source": [
    "algorithm = SVD()"
   ]
  },
  {
   "cell_type": "markdown",
   "metadata": {},
   "source": [
    "### Calculate precision@k and recall@k"
   ]
  },
  {
   "cell_type": "code",
   "execution_count": 14,
   "metadata": {},
   "outputs": [
    {
     "name": "stdout",
     "output_type": "stream",
     "text": [
      "precision@k 0.72366560622128\n",
      "recall@k 0.412359997056287\n"
     ]
    }
   ],
   "source": [
    "kf = KFold(n_splits=5)\n",
    "\n",
    "for trainset, testset in kf.split(data):\n",
    "    algorithm.fit(trainset)\n",
    "    predictions = algorithm.test(testset)\n",
    "    precision_at_k, recall_at_k = precision_recall_at_k(predictions, k=5, threshold=3.52)\n",
    "precision_at_k = sum(prec for prec in precision_at_k.values()) / len(precision_at_k)\n",
    "recall_at_k = sum(rec for rec in recall_at_k.values()) / len(recall_at_k)\n",
    "\n",
    "print('precision@k', precision_at_k)\n",
    "print('recall@k', recall_at_k)"
   ]
  },
  {
   "cell_type": "markdown",
   "metadata": {},
   "source": [
    "### Predict"
   ]
  },
  {
   "cell_type": "code",
   "execution_count": 25,
   "metadata": {},
   "outputs": [],
   "source": [
    "# обратите внимание на функцию build_anti_testset\n",
    "algorithm.fit(trainset)\n",
    "testset = trainset.build_anti_testset()\n",
    "predictions = algorithm.test(testset)"
   ]
  },
  {
   "cell_type": "code",
   "execution_count": 45,
   "metadata": {},
   "outputs": [
    {
     "data": {
      "text/plain": [
       "{'50': \"('Star Wars (1977)', '01-Jan-1977') 4.5571226888691765\",\n",
       " '603': \"('Rear Window (1954)', '01-Jan-1954') 4.196517009224539\",\n",
       " '272': \"('Good Will Hunting (1997)', '01-Jan-1997') 4.173460676089434\",\n",
       " '64': \"('Shawshank Redemption, The (1994)', '01-Jan-1994') 4.142104878720616\",\n",
       " '12': \"('Usual Suspects, The (1995)', '14-Aug-1995') 4.121686718167763\"}"
      ]
     },
     "execution_count": 45,
     "metadata": {},
     "output_type": "execute_result"
    }
   ],
   "source": [
    "top_n = get_top_n(predictions, N)\n",
    "result = get_movie_names(top_n[MY_USER_NUM])\n",
    "result\n",
    "with open('result.json', 'w') as fp:\n",
    "          json.dump(result, fp, indent=4)\n",
    "result"
   ]
  },
  {
   "cell_type": "code",
   "execution_count": null,
   "metadata": {},
   "outputs": [],
   "source": []
  }
 ],
 "metadata": {
  "kernelspec": {
   "display_name": "Python 3",
   "language": "python",
   "name": "python3"
  },
  "language_info": {
   "codemirror_mode": {
    "name": "ipython",
    "version": 3
   },
   "file_extension": ".py",
   "mimetype": "text/x-python",
   "name": "python",
   "nbconvert_exporter": "python",
   "pygments_lexer": "ipython3",
   "version": "3.8.5"
  }
 },
 "nbformat": 4,
 "nbformat_minor": 2
}
