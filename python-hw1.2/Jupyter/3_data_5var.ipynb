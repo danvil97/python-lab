{
 "cells": [
  {
   "cell_type": "markdown",
   "metadata": {},
   "source": [
    "#### 1. Определить свой вариант по таблице в гугл-доках, с информацией о ваших успехах \n",
    "Ответ: 5\n",
    "#### 2. Найти файл, относящийся к вашему варианту.\n",
    "Ответ: var05.csv\n",
    "#### 3. Определить тип сериализации у вашего файла, из изученных на практике и лекции.\n",
    "Ответ: CSV\n",
    "#### 4. Считать данные файла c помощью языка python и среды разработки Jupyter"
   ]
  },
  {
   "cell_type": "code",
   "execution_count": 43,
   "metadata": {},
   "outputs": [
    {
     "data": {
      "text/html": [
       "<div>\n",
       "<style scoped>\n",
       "    .dataframe tbody tr th:only-of-type {\n",
       "        vertical-align: middle;\n",
       "    }\n",
       "\n",
       "    .dataframe tbody tr th {\n",
       "        vertical-align: top;\n",
       "    }\n",
       "\n",
       "    .dataframe thead th {\n",
       "        text-align: right;\n",
       "    }\n",
       "</style>\n",
       "<table border=\"1\" class=\"dataframe\">\n",
       "  <thead>\n",
       "    <tr style=\"text-align: right;\">\n",
       "      <th></th>\n",
       "      <th>jjwye</th>\n",
       "      <th>qrgto</th>\n",
       "      <th>rpnmo</th>\n",
       "    </tr>\n",
       "  </thead>\n",
       "  <tbody>\n",
       "    <tr>\n",
       "      <th>0</th>\n",
       "      <td>15.554835</td>\n",
       "      <td>14.964320</td>\n",
       "      <td>19.204232</td>\n",
       "    </tr>\n",
       "    <tr>\n",
       "      <th>1</th>\n",
       "      <td>8.474568</td>\n",
       "      <td>17.819019</td>\n",
       "      <td>16.562395</td>\n",
       "    </tr>\n",
       "    <tr>\n",
       "      <th>2</th>\n",
       "      <td>24.057693</td>\n",
       "      <td>4.996934</td>\n",
       "      <td>6.197014</td>\n",
       "    </tr>\n",
       "    <tr>\n",
       "      <th>3</th>\n",
       "      <td>11.499164</td>\n",
       "      <td>9.928000</td>\n",
       "      <td>29.208549</td>\n",
       "    </tr>\n",
       "    <tr>\n",
       "      <th>4</th>\n",
       "      <td>10.570008</td>\n",
       "      <td>13.059573</td>\n",
       "      <td>9.465277</td>\n",
       "    </tr>\n",
       "  </tbody>\n",
       "</table>\n",
       "</div>"
      ],
      "text/plain": [
       "       jjwye      qrgto      rpnmo\n",
       "0  15.554835  14.964320  19.204232\n",
       "1   8.474568  17.819019  16.562395\n",
       "2  24.057693   4.996934   6.197014\n",
       "3  11.499164   9.928000  29.208549\n",
       "4  10.570008  13.059573   9.465277"
      ]
     },
     "execution_count": 43,
     "metadata": {},
     "output_type": "execute_result"
    }
   ],
   "source": [
    "import numpy as np\n",
    "import pandas as pd\n",
    "import matplotlib.pyplot as plt\n",
    "\n",
    "data = pd.read_csv('var05.csv', index_col=[0])\n",
    "\n",
    "data.head()"
   ]
  },
  {
   "cell_type": "markdown",
   "metadata": {},
   "source": [
    "#### 5. Выполнить следующие действия:\n",
    "- Найти среднее и дисперсию каждого столбца."
   ]
  },
  {
   "cell_type": "code",
   "execution_count": 55,
   "metadata": {},
   "outputs": [
    {
     "data": {
      "text/html": [
       "<div>\n",
       "<style scoped>\n",
       "    .dataframe tbody tr th:only-of-type {\n",
       "        vertical-align: middle;\n",
       "    }\n",
       "\n",
       "    .dataframe tbody tr th {\n",
       "        vertical-align: top;\n",
       "    }\n",
       "\n",
       "    .dataframe thead th {\n",
       "        text-align: right;\n",
       "    }\n",
       "</style>\n",
       "<table border=\"1\" class=\"dataframe\">\n",
       "  <thead>\n",
       "    <tr style=\"text-align: right;\">\n",
       "      <th></th>\n",
       "      <th>jjwye</th>\n",
       "      <th>qrgto</th>\n",
       "      <th>rpnmo</th>\n",
       "    </tr>\n",
       "  </thead>\n",
       "  <tbody>\n",
       "    <tr>\n",
       "      <th>count</th>\n",
       "      <td>100.000000</td>\n",
       "      <td>100.000000</td>\n",
       "      <td>100.000000</td>\n",
       "    </tr>\n",
       "    <tr>\n",
       "      <th>mean</th>\n",
       "      <td>9.005259</td>\n",
       "      <td>12.123232</td>\n",
       "      <td>9.880322</td>\n",
       "    </tr>\n",
       "    <tr>\n",
       "      <th>std</th>\n",
       "      <td>34.600332</td>\n",
       "      <td>17.837912</td>\n",
       "      <td>20.211572</td>\n",
       "    </tr>\n",
       "    <tr>\n",
       "      <th>min</th>\n",
       "      <td>-180.079680</td>\n",
       "      <td>-12.238944</td>\n",
       "      <td>-167.116576</td>\n",
       "    </tr>\n",
       "    <tr>\n",
       "      <th>25%</th>\n",
       "      <td>5.874730</td>\n",
       "      <td>5.657941</td>\n",
       "      <td>4.963393</td>\n",
       "    </tr>\n",
       "    <tr>\n",
       "      <th>50%</th>\n",
       "      <td>10.472084</td>\n",
       "      <td>11.332350</td>\n",
       "      <td>9.858488</td>\n",
       "    </tr>\n",
       "    <tr>\n",
       "      <th>75%</th>\n",
       "      <td>17.017900</td>\n",
       "      <td>17.185261</td>\n",
       "      <td>18.220572</td>\n",
       "    </tr>\n",
       "    <tr>\n",
       "      <th>max</th>\n",
       "      <td>151.957882</td>\n",
       "      <td>167.105561</td>\n",
       "      <td>33.714164</td>\n",
       "    </tr>\n",
       "  </tbody>\n",
       "</table>\n",
       "</div>"
      ],
      "text/plain": [
       "            jjwye       qrgto       rpnmo\n",
       "count  100.000000  100.000000  100.000000\n",
       "mean     9.005259   12.123232    9.880322\n",
       "std     34.600332   17.837912   20.211572\n",
       "min   -180.079680  -12.238944 -167.116576\n",
       "25%      5.874730    5.657941    4.963393\n",
       "50%     10.472084   11.332350    9.858488\n",
       "75%     17.017900   17.185261   18.220572\n",
       "max    151.957882  167.105561   33.714164"
      ]
     },
     "execution_count": 55,
     "metadata": {},
     "output_type": "execute_result"
    }
   ],
   "source": [
    "data.describe()"
   ]
  },
  {
   "cell_type": "code",
   "execution_count": 60,
   "metadata": {},
   "outputs": [
    {
     "name": "stdout",
     "output_type": "stream",
     "text": [
      "Среднее:\n"
     ]
    },
    {
     "data": {
      "text/plain": [
       "jjwye     9.005259\n",
       "qrgto    12.123232\n",
       "rpnmo     9.880322\n",
       "dtype: float64"
      ]
     },
     "execution_count": 60,
     "metadata": {},
     "output_type": "execute_result"
    }
   ],
   "source": [
    "print('Среднее:')\n",
    "data.mean()"
   ]
  },
  {
   "cell_type": "code",
   "execution_count": 45,
   "metadata": {},
   "outputs": [
    {
     "name": "stdout",
     "output_type": "stream",
     "text": [
      "Дисперсия:\n"
     ]
    },
    {
     "data": {
      "text/plain": [
       "jjwye    34.600332\n",
       "qrgto    17.837912\n",
       "rpnmo    20.211572\n",
       "dtype: float64"
      ]
     },
     "execution_count": 45,
     "metadata": {},
     "output_type": "execute_result"
    }
   ],
   "source": [
    "print('Дисперсия:')\n",
    "data.std()"
   ]
  },
  {
   "cell_type": "markdown",
   "metadata": {},
   "source": [
    "- Визуализировать датасет любым удобным способом. Можно несколькими графиками.\n"
   ]
  },
  {
   "cell_type": "code",
   "execution_count": 65,
   "metadata": {},
   "outputs": [
    {
     "data": {
      "image/png": "[encoded data removed]",
      "text/plain": [
       "<Figure size 432x288 with 1 Axes>"
      ]
     },
     "metadata": {
      "needs_background": "light"
     },
     "output_type": "display_data"
    }
   ],
   "source": [
    "data['jjwye'].hist(color=\"red\", label='jjwye')\n",
    "data['qrgto'].hist(color=\"green\", label='qrgto')\n",
    "data['rpnmo'].hist(color=\"blue\", label='rpnmo')\n",
    "\n",
    "plt.title('jjwye, qrgto and rpnmo ')\n",
    "plt.xlabel('Column')\n",
    "plt.ylabel('Value')\n",
    "plt.legend(loc='upper right');"
   ]
  },
  {
   "cell_type": "markdown",
   "metadata": {},
   "source": [
    "- Построить графики для каждой пары признаков в наборе данных.\n"
   ]
  },
  {
   "cell_type": "code",
   "execution_count": 47,
   "metadata": {},
   "outputs": [],
   "source": [
    "def draw_1(data):\n",
    "    data['jjwye'].hist(color=\"red\", label='jjwye')\n",
    "    data['qrgto'].hist(color=\"green\", label='qrgto')\n",
    "\n",
    "    \n",
    "def draw_2(data):\n",
    "    data['jjwye'].hist(color=\"red\", label='jjwye')\n",
    "    data['rpnmo'].hist(color=\"blue\", label='rpnmo')\n",
    "\n",
    "    \n",
    "def draw_3(data):\n",
    "    data['qrgto'].hist(color=\"green\", label='qrgto')\n",
    "    data['rpnmo'].hist(color=\"blue\", label='rpnmo')"
   ]
  },
  {
   "cell_type": "code",
   "execution_count": 48,
   "metadata": {
    "scrolled": false
   },
   "outputs": [
    {
     "data": {
      "image/png": "[encoded data removed]",
      "text/plain": [
       "<Figure size 432x288 with 1 Axes>"
      ]
     },
     "metadata": {
      "needs_background": "light"
     },
     "output_type": "display_data"
    }
   ],
   "source": [
    "draw_1(data)"
   ]
  },
  {
   "cell_type": "code",
   "execution_count": 49,
   "metadata": {},
   "outputs": [
    {
     "data": {
      "image/png": "[encoded data removed]",
      "text/plain": [
       "<Figure size 432x288 with 1 Axes>"
      ]
     },
     "metadata": {
      "needs_background": "light"
     },
     "output_type": "display_data"
    }
   ],
   "source": [
    "draw_2(data)"
   ]
  },
  {
   "cell_type": "code",
   "execution_count": 50,
   "metadata": {},
   "outputs": [
    {
     "data": {
      "image/png": "[encoded data removed]",
      "text/plain": [
       "<Figure size 432x288 with 1 Axes>"
      ]
     },
     "metadata": {
      "needs_background": "light"
     },
     "output_type": "display_data"
    }
   ],
   "source": [
    "draw_3(data)"
   ]
  },
  {
   "cell_type": "markdown",
   "metadata": {},
   "source": [
    "- Построить гистограмму каждого из признаков.\n"
   ]
  },
  {
   "cell_type": "code",
   "execution_count": 76,
   "metadata": {},
   "outputs": [
    {
     "data": {
      "image/png": "[encoded data removed]",
      "text/plain": [
       "<Figure size 432x288 with 3 Axes>"
      ]
     },
     "metadata": {
      "needs_background": "light"
     },
     "output_type": "display_data"
    }
   ],
   "source": [
    "HIST_RANGE = 100\n",
    "fig, axs = plt.subplots(len(data.columns))\n",
    "i = 0\n",
    "for col in data.columns:\n",
    "    axs[i].hist(data[col],HIST_RANGE)\n",
    "    axs[i].set_title(col)\n",
    "    i += 1\n",
    "    \n",
    "    \n",
    "# axs[0].hist(data['jjwye'], HIST_RANGE)\n",
    "# axs[0].set_title('jjwye')\n",
    "# axs[1].hist(data['qrgto'], HIST_RANGE)\n",
    "# axs[1].set_title('qrgto')\n",
    "# axs[2].hist(data['rpnmo'], HIST_RANGE)\n",
    "# axs[2].set_title('rpnmo')"
   ]
  },
  {
   "cell_type": "markdown",
   "metadata": {},
   "source": [
    "- Найти выбросы. Удалить их.\n",
    "     Если номер варианта не четный - присвоить выбросам среднее значение.\n"
   ]
  },
  {
   "cell_type": "code",
   "execution_count": 85,
   "metadata": {},
   "outputs": [
    {
     "data": {
      "text/plain": [
       "jjwye    11.321324\n",
       "qrgto    10.573408\n",
       "rpnmo    11.650291\n",
       "dtype: float64"
      ]
     },
     "execution_count": 85,
     "metadata": {},
     "output_type": "execute_result"
    }
   ],
   "source": [
    "new_data = data.copy()\n",
    "\n",
    "for col in new_data.columns:\n",
    "    data_std = new_data[col].std()\n",
    "    data_mean = new_data[col].mean()\n",
    "    cut_off = data_std * 3\n",
    "    \n",
    "    lower_border = data_mean - cut_off\n",
    "    upper_border = data_mean + cut_off\n",
    "    col_data = new_data[col]\n",
    "    \n",
    "    for idx in range(len(col_data)):\n",
    "        if col_data[idx] > upper_border or col_data[idx] < lower_border:\n",
    "            col_data[idx] = data_mean\n",
    "    "
   ]
  },
  {
   "cell_type": "markdown",
   "metadata": {},
   "source": [
    "- Найти новые средние и дисперсии, сравнить со старыми.\n"
   ]
  },
  {
   "cell_type": "code",
   "execution_count": 107,
   "metadata": {},
   "outputs": [
    {
     "name": "stdout",
     "output_type": "stream",
     "text": [
      "Старые:\n",
      "\tСреднее: \n",
      " jjwye     9.005259\n",
      "qrgto    12.123232\n",
      "rpnmo     9.880322\n",
      "\n",
      "\tДисперсия: \n",
      " jjwye    34.600332\n",
      "qrgto    17.837912\n",
      "rpnmo    20.211572\n",
      "\n",
      "\n",
      "Новые:\n",
      "\tСреднее: \n",
      " jjwye    11.321324\n",
      "qrgto    10.573408\n",
      "rpnmo    11.650291\n",
      "\n",
      "\tДисперсия: \n",
      " jjwye    8.949223\n",
      "qrgto    8.552394\n",
      "rpnmo    9.428667\n",
      "\n"
     ]
    }
   ],
   "source": [
    "print('Старые:')\n",
    "print('\\tСреднее: \\n',data.mean().to_string()+'\\n')\n",
    "print('\\tДисперсия: \\n',data.std().to_string()+'\\n')\n",
    "print('\\nНовые:')\n",
    "print('\\tСреднее: \\n',new_data.mean().to_string()+'\\n')\n",
    "print('\\tДисперсия: \\n',new_data.std().to_string()+'\\n')"
   ]
  },
  {
   "cell_type": "markdown",
   "metadata": {},
   "source": [
    "- Нормализовать данные по среднему и дисперсии."
   ]
  },
  {
   "cell_type": "code",
   "execution_count": 110,
   "metadata": {},
   "outputs": [
    {
     "data": {
      "text/html": [
       "<div>\n",
       "<style scoped>\n",
       "    .dataframe tbody tr th:only-of-type {\n",
       "        vertical-align: middle;\n",
       "    }\n",
       "\n",
       "    .dataframe tbody tr th {\n",
       "        vertical-align: top;\n",
       "    }\n",
       "\n",
       "    .dataframe thead th {\n",
       "        text-align: right;\n",
       "    }\n",
       "</style>\n",
       "<table border=\"1\" class=\"dataframe\">\n",
       "  <thead>\n",
       "    <tr style=\"text-align: right;\">\n",
       "      <th></th>\n",
       "      <th>jjwye</th>\n",
       "      <th>qrgto</th>\n",
       "      <th>rpnmo</th>\n",
       "    </tr>\n",
       "  </thead>\n",
       "  <tbody>\n",
       "    <tr>\n",
       "      <th>0</th>\n",
       "      <td>0.280756</td>\n",
       "      <td>0.251539</td>\n",
       "      <td>0.461315</td>\n",
       "    </tr>\n",
       "    <tr>\n",
       "      <th>1</th>\n",
       "      <td>-0.069552</td>\n",
       "      <td>0.392780</td>\n",
       "      <td>0.330606</td>\n",
       "    </tr>\n",
       "    <tr>\n",
       "      <th>2</th>\n",
       "      <td>0.701448</td>\n",
       "      <td>-0.241613</td>\n",
       "      <td>-0.182238</td>\n",
       "    </tr>\n",
       "    <tr>\n",
       "      <th>3</th>\n",
       "      <td>0.080095</td>\n",
       "      <td>0.002359</td>\n",
       "      <td>0.956295</td>\n",
       "    </tr>\n",
       "    <tr>\n",
       "      <th>4</th>\n",
       "      <td>0.034123</td>\n",
       "      <td>0.157299</td>\n",
       "      <td>-0.020535</td>\n",
       "    </tr>\n",
       "  </tbody>\n",
       "</table>\n",
       "</div>"
      ],
      "text/plain": [
       "      jjwye     qrgto     rpnmo\n",
       "0  0.280756  0.251539  0.461315\n",
       "1 -0.069552  0.392780  0.330606\n",
       "2  0.701448 -0.241613 -0.182238\n",
       "3  0.080095  0.002359  0.956295\n",
       "4  0.034123  0.157299 -0.020535"
      ]
     },
     "execution_count": 110,
     "metadata": {},
     "output_type": "execute_result"
    }
   ],
   "source": [
    "normalized_data = data.copy()\n",
    "\n",
    "normalized_data = (data-data_mean) / data_std\n",
    "\n",
    "normalized_data.head()"
   ]
  },
  {
   "cell_type": "code",
   "execution_count": null,
   "metadata": {},
   "outputs": [],
   "source": []
  }
 ],
 "metadata": {
  "kernelspec": {
   "display_name": "Python 3",
   "language": "python",
   "name": "python3"
  },
  "language_info": {
   "codemirror_mode": {
    "name": "ipython",
    "version": 3
   },
   "file_extension": ".py",
   "mimetype": "text/x-python",
   "name": "python",
   "nbconvert_exporter": "python",
   "pygments_lexer": "ipython3",
   "version": "3.8.3"
  }
 },
 "nbformat": 4,
 "nbformat_minor": 4
}
